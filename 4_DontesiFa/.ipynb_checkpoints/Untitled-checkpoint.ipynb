{
 "cells": [
  {
   "cell_type": "markdown",
   "id": "4f0f34e5-0c89-430f-bbf5-aeca18341493",
   "metadata": {
    "tags": []
   },
   "source": [
    "### Deep reinforcement learning - Homework 2\n",
    "#### Daniel Kuknyo\n",
    "​You are in Esztergom and you need to go to Pest as fast as you can. There are two roads where you can leave the city, route 10 and 11.  \n",
    "After you arrive to Buda, you have only two bridges you can choose from to cross the river Danube and arrive to Pest.  \n",
    "The traffic is unpredictable, so it can happen that the road or bridge, you choose has a traffic jam. \n",
    "\n",
    "The time you need to cross the bridges depends on the first action (route 10 or 11), so they will be different either case.  \n",
    "And sometimes you are redirected even though you have chosen the other route/bridge. \n",
    "\n",
    "Your goal is to build a strategy, where you gain the most reward on your journey. \n",
    "Reward are the negative time you need to go through that road/bridge.\n",
    "\n",
    "For states: A,B,C and all actions the reward equals:  \n",
    "R(State, Action) = { if there is a jam, Reward_jam, if there is normal traffic, Reward_normal, P_jam is given} \n",
    "\n",
    "It could happen that you choose to go in a direction, but you are redirected to the other (see  MDP example in Lecture 2.)​  \n",
    "In example: P(s,a,s') = 0.9 so 90% of the time you go to the direction you choose, but 10% of the time you are redirected to the other action.\n",
    "\n",
    "Tasks:  \n",
    "1.Optimize your strategy to gain as much reward as you can  \n",
    "2.Implement DP, MC and TD algorithms and compare their results  \n",
    "3.Write a short (few sentences) study why they perform different.  \n",
    "4.Run simulation for each of the for 1000 episodes  \n",
    "5.Create graphs about the different algorithms performance. (use matplotlib)  \n",
    "6.Finish these tasks for both sets of input data  \n",
    "7.Experimenting have to be done in Python, and HW hand in as a Jupyter notebook (.ipynb)  \n",
    "8.Input data can be found in .csv file in this module. "
   ]
  },
  {
   "cell_type": "code",
   "execution_count": null,
   "id": "b6f5ebad-1b79-49bf-8cd5-ef3993e3e5ee",
   "metadata": {},
   "outputs": [],
   "source": []
  }
 ],
 "metadata": {
  "kernelspec": {
   "display_name": "Python 3 (ipykernel)",
   "language": "python",
   "name": "python3"
  },
  "language_info": {
   "codemirror_mode": {
    "name": "ipython",
    "version": 3
   },
   "file_extension": ".py",
   "mimetype": "text/x-python",
   "name": "python",
   "nbconvert_exporter": "python",
   "pygments_lexer": "ipython3",
   "version": "3.8.3"
  }
 },
 "nbformat": 4,
 "nbformat_minor": 5
}

{
 "cells": [
  {
   "cell_type": "markdown",
   "metadata": {},
   "source": [
    "## Döntési fák\n",
    "A projekt teljes futtatásához szükség van a dtreeviz telepítésére.\n",
    "Anaconda Powershell Prompt --> \"pip install dtreeviz\""
   ]
  },
  {
   "cell_type": "code",
   "execution_count": null,
   "metadata": {},
   "outputs": [],
   "source": [
    "import pandas as pd\n",
    "import numpy as np \n",
    "\n",
    "from sklearn.model_selection import train_test_split\n",
    "from sklearn.metrics import accuracy_score\n",
    "from sklearn.metrics import recall_score\n",
    "from sklearn.tree import DecisionTreeClassifier\n",
    "from sklearn.tree import export_graphviz\n",
    "from sklearn import preprocessing\n",
    "from sklearn import tree\n",
    "\n",
    "from dtreeviz.trees import dtreeviz\n",
    "\n",
    "import matplotlib.pyplot as plt\n",
    "\n",
    "import pydotplus # conda install pydotplus\n",
    "\n",
    "import warnings\n",
    "warnings.filterwarnings('ignore')\n",
    "\n",
    "cm = 'viridis' # a diagramok színei globális változó"
   ]
  },
  {
   "cell_type": "markdown",
   "metadata": {},
   "source": [
    "### Adatok ábrázolásához segéd metódus: ponthálóvá alakítás"
   ]
  },
  {
   "cell_type": "code",
   "execution_count": null,
   "metadata": {},
   "outputs": [],
   "source": [
    "def get_grid(data):\n",
    "    x_min, x_max = data.iloc[:, 0].min() - 1, data.iloc[:, 0].max() + 1\n",
    "    y_min, y_max = data.iloc[:, 1].min() - 1, data.iloc[:, 1].max() + 1\n",
    "    return np.meshgrid(np.arange(x_min, x_max, 1), np.arange(y_min, y_max, 1))"
   ]
  },
  {
   "cell_type": "markdown",
   "metadata": {},
   "source": [
    "### Modell ábrázolásához segéd metódus"
   ]
  },
  {
   "cell_type": "code",
   "execution_count": null,
   "metadata": {},
   "outputs": [],
   "source": [
    "def scatter_grid(features, clf_tree):\n",
    "    xx, yy = get_grid(x_train[features])\n",
    "    predicted = clf_tree.predict(np.c_[xx.ravel(), yy.ravel()]).reshape(xx.shape)\n",
    "    \n",
    "    le = preprocessing.LabelEncoder()\n",
    "    \n",
    "    for i in range(len(predicted)):\n",
    "        predicted[i] = le.fit_transform(predicted[i])\n",
    "    \n",
    "    predicted = predicted.astype(np.float64)\n",
    "    \n",
    "    fig, ax = plt.subplots(figsize=(8,8))\n",
    "    ax.pcolormesh(xx, yy, predicted, cmap=cm)\n",
    "    plt.scatter(x_train.iloc[:, 0], x_train.iloc[:, 1], c=le.fit_transform(y_train), s=100, \n",
    "                cmap=cm, edgecolors='black', linewidth=1.5);"
   ]
  },
  {
   "cell_type": "markdown",
   "metadata": {},
   "source": [
    "### A döntési fa ábrázolásához metódus"
   ]
  },
  {
   "cell_type": "code",
   "execution_count": null,
   "metadata": {},
   "outputs": [],
   "source": [
    "def tree_graph_to_png(dtree, feature_names, figs, fonts):\n",
    "    plt.figure(figsize=figs)\n",
    "    tree.plot_tree(dtree, filled=True, rounded=True, feature_names = feature_names, fontsize=fonts)\n",
    "    plt.show()"
   ]
  },
  {
   "cell_type": "markdown",
   "metadata": {},
   "source": [
    "### Adatok beolvasása"
   ]
  },
  {
   "cell_type": "code",
   "execution_count": null,
   "metadata": {},
   "outputs": [],
   "source": [
    "df = pd.read_csv('halak.csv', header=0, sep=';', encoding='ISO-8859-2')\n",
    "\n",
    "X = df[['Hossz1', 'Magassag']] # Független változók\n",
    "Y = df['Faj'] # Célváltozó\n",
    "\n",
    "x_train, x_val, y_train, y_val = train_test_split(X, Y, test_size=0.2, random_state=42)\n",
    "\n",
    "le = preprocessing.LabelEncoder() # Címkekódoló a fajták számmal való reprezentálásához\n",
    "\n",
    "plt.figure(figsize=(8,8))\n",
    "plt.title(\"Halak fajtái tulajdonságaik alapján\", size=20)\n",
    "plt.scatter(X.iloc[:,0], X.iloc[:,1], c=le.fit_transform(Y), cmap=cm)\n",
    "plt.xlabel(\"Hossz\", size=15)\n",
    "plt.ylabel(\"Magasság\", size=15)\n",
    "plt.show()"
   ]
  },
  {
   "cell_type": "markdown",
   "metadata": {},
   "source": [
    "### Döntési fa modell tanítása"
   ]
  },
  {
   "cell_type": "code",
   "execution_count": null,
   "metadata": {},
   "outputs": [],
   "source": [
    "clf_tree_2var = DecisionTreeClassifier(criterion='gini', max_depth=5, random_state=42)\n",
    "\n",
    "clf_tree_2var.fit(x_train, y_train)\n",
    "\n",
    "scatter_grid(['Hossz1','Magassag'], clf_tree_2var)"
   ]
  },
  {
   "cell_type": "markdown",
   "metadata": {},
   "source": [
    "### Kép generálása a modellből és mentés .png-ként"
   ]
  },
  {
   "cell_type": "code",
   "execution_count": null,
   "metadata": {},
   "outputs": [],
   "source": [
    "tree_graph_to_png(dtree=clf_tree_2var, feature_names=x_train.columns, figs=(20,10), fonts=12)"
   ]
  },
  {
   "cell_type": "markdown",
   "metadata": {},
   "source": [
    "### Modell vizualizálása másképpen "
   ]
  },
  {
   "cell_type": "code",
   "execution_count": null,
   "metadata": {},
   "outputs": [],
   "source": [
    "Xa = np.array(X)\n",
    "\n",
    "le = preprocessing.LabelEncoder()\n",
    "y_le = le.fit_transform(Y)\n",
    "\n",
    "clfx = DecisionTreeClassifier(criterion='gini', max_depth=5, random_state=42)\n",
    "\n",
    "clfx.fit(Xa, y_le)\n",
    "\n",
    "viz = dtreeviz(clfx, Xa, y_le, target_name=\"target\", feature_names=list(X.columns), class_names=list(set(Y)))\n",
    "\n",
    "viz"
   ]
  },
  {
   "cell_type": "markdown",
   "metadata": {},
   "source": [
    "### Predikció"
   ]
  },
  {
   "cell_type": "code",
   "execution_count": null,
   "metadata": {},
   "outputs": [],
   "source": [
    "y_pred = clf_tree_2var.predict(x_val)\n",
    "\n",
    "# Egy egyszerű DataFrame a célváltozó értékeinek megtekintésére az egyes kísérletekben\n",
    "df_pred = pd.DataFrame({'original': y_val, \n",
    "                       'predicted': y_pred})\n",
    "\n",
    "df_pred['match'] = [1 if x==y else 0 for x,y in zip(df_pred['original'], df_pred['predicted'])]\n",
    "\n",
    "print(\"Accuracy: \", accuracy_score(y_val, y_pred))\n",
    "df_pred.reset_index().drop('index', axis=1, inplace=False)"
   ]
  },
  {
   "cell_type": "markdown",
   "metadata": {},
   "source": [
    "### Mégegy próba, több változóval\n",
    "Ezúttal próbáljuk meg az összes rendelkezésre álló változót felvenni a predikcióba, és nézzük meg, pontosabb lesz-e!"
   ]
  },
  {
   "cell_type": "code",
   "execution_count": null,
   "metadata": {},
   "outputs": [],
   "source": [
    "varlst = ['Suly', 'Hossz1', 'Hossz2', 'Hossz3', 'Magassag', 'Szelesseg']\n",
    "\n",
    "X = df[varlst] # Független változók\n",
    "Y = df['Faj'] # Célváltozó\n",
    "\n",
    "x_train, x_val, y_train, y_val = train_test_split(X, Y, test_size=0.2, random_state=42)\n",
    "\n",
    "clf_tree_multivar = DecisionTreeClassifier(criterion='gini', max_depth=10, random_state=42)\n",
    "\n",
    "clf_tree_multivar.fit(x_train, y_train)\n",
    "\n",
    "y_pred_tree = clf_tree_multivar.predict(x_val)\n",
    "\n",
    "df_pred['tree_pred'] = y_pred_tree\n",
    "\n",
    "df_pred['tree_match'] = [1 if x==y else 0 for x,y in zip(df_pred['original'], \n",
    "                                                         df_pred['tree_pred'])]\n",
    "\n",
    "print(\"Accuracy:\", accuracy_score(y_val, y_pred_tree))"
   ]
  },
  {
   "cell_type": "code",
   "execution_count": null,
   "metadata": {},
   "outputs": [],
   "source": [
    "tree_graph_to_png(dtree=clf_tree_multivar, feature_names=varlst, figs=(40,30), fonts=12)"
   ]
  },
  {
   "cell_type": "code",
   "execution_count": null,
   "metadata": {},
   "outputs": [],
   "source": [
    "df_pred"
   ]
  },
  {
   "cell_type": "code",
   "execution_count": null,
   "metadata": {},
   "outputs": [],
   "source": []
  }
 ],
 "metadata": {
  "anaconda-cloud": {},
  "kernelspec": {
   "display_name": "Python 3 (ipykernel)",
   "language": "python",
   "name": "python3"
  },
  "language_info": {
   "codemirror_mode": {
    "name": "ipython",
    "version": 3
   },
   "file_extension": ".py",
   "mimetype": "text/x-python",
   "name": "python",
   "nbconvert_exporter": "python",
   "pygments_lexer": "ipython3",
   "version": "3.8.3"
  },
  "varInspector": {
   "cols": {
    "lenName": 16,
    "lenType": 16,
    "lenVar": 40
   },
   "kernels_config": {
    "python": {
     "delete_cmd_postfix": "",
     "delete_cmd_prefix": "del ",
     "library": "var_list.py",
     "varRefreshCmd": "print(var_dic_list())"
    },
    "r": {
     "delete_cmd_postfix": ") ",
     "delete_cmd_prefix": "rm(",
     "library": "var_list.r",
     "varRefreshCmd": "cat(var_dic_list()) "
    }
   },
   "oldHeight": 626.25,
   "position": {
    "height": "41.4px",
    "left": "958px",
    "right": "20px",
    "top": "66px",
    "width": "542.4px"
   },
   "types_to_exclude": [
    "module",
    "function",
    "builtin_function_or_method",
    "instance",
    "_Feature"
   ],
   "varInspector_section_display": "none",
   "window_display": false
  }
 },
 "nbformat": 4,
 "nbformat_minor": 4
}

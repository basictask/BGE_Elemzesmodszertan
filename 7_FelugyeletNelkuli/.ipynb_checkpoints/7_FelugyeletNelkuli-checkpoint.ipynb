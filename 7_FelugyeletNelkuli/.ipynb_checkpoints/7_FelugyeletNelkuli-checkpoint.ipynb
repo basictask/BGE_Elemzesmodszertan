{
 "cells": [
  {
   "cell_type": "markdown",
   "metadata": {},
   "source": [
    "# Felügyelet nélküli tanulás\n",
    "Főkomponenselemzés, K-közép klaszterezés"
   ]
  },
  {
   "cell_type": "code",
   "execution_count": null,
   "metadata": {},
   "outputs": [],
   "source": [
    "import pandas as pd\n",
    "import numpy as np\n",
    "import seaborn as sns; sns.set()\n",
    "from seaborn import scatterplot as scatter\n",
    "import math\n",
    "from sklearn import preprocessing\n",
    "from datetime import datetime\n",
    "import matplotlib.pyplot as plt\n",
    "from pandas.plotting import register_matplotlib_converters; register_matplotlib_converters()\n",
    "from fcmeans import FCM"
   ]
  },
  {
   "cell_type": "markdown",
   "metadata": {},
   "source": [
    "### Adatok beolvasása\n",
    "\n",
    "    vszam - hányszor vettek adott termékből\n",
    "    bevetel - összesen mennyi bevételt hozott a termék\n",
    "    haszonkulcs - hány százalék haszon van a terméken\n",
    "    vnap - hány napja vásárolták utóljára a terméket"
   ]
  },
  {
   "cell_type": "code",
   "execution_count": null,
   "metadata": {},
   "outputs": [],
   "source": [
    "termek_tulajdonsag = pd.read_csv('termek_tulajdonsag.csv', header=0, sep=',')\n",
    "\n",
    "df_termek = termek_tulajdonsag.set_index('z_soid')\n",
    "\n",
    "df_termek.loc[df_termek['haszonkulcs']>200, 'haszonkulcs'] = 200\n",
    "\n",
    "df_termek.head()"
   ]
  },
  {
   "cell_type": "markdown",
   "metadata": {},
   "source": [
    "### Előkészítés: soroljuk be az árakat 0...3 kategórákba"
   ]
  },
  {
   "cell_type": "code",
   "execution_count": null,
   "metadata": {},
   "outputs": [],
   "source": [
    "arak = pd.DataFrame(df_termek['bevetel'] / df_termek['vszam'], columns=['ar']).round()\n",
    "\n",
    "def choose_boost(n):\n",
    "    if(n<29990):\n",
    "        return 0\n",
    "    elif(n>=29990 and n<51077):\n",
    "        return 1\n",
    "    elif(n>=51077 and n<83330):\n",
    "        return 2\n",
    "    else:\n",
    "        return 3\n",
    "        \n",
    "arak['cat'] = [choose_boost(n) for n in arak['ar']]\n",
    "\n",
    "#df_termek = pd.concat([df_termek, arak['ar']], axis=1)\n",
    "\n",
    "scaled_termek = preprocessing.scale(df_termek)"
   ]
  },
  {
   "cell_type": "markdown",
   "metadata": {},
   "source": [
    "### Fuzzy C-means\n",
    "Klaszterelemzés fuzzy klaszterekkel"
   ]
  },
  {
   "cell_type": "code",
   "execution_count": null,
   "metadata": {},
   "outputs": [],
   "source": [
    "fcm = FCM(n_clusters=5, random_state=42, max_iter=1000)\n",
    "fcm.fit(scaled_termek)\n",
    "\n",
    "fcm_centers = fcm.centers\n",
    "u = pd.DataFrame(fcm.u)\n",
    "fcm_labels  = fcm.u.argmax(axis=1)\n",
    "\n",
    "y_pred_fuzzy = fcm.predict(scaled_termek)\n",
    "\n",
    "print(\"FCM predikciók\")\n",
    "print(fcm.u[:10])\n",
    "print()\n",
    "print(\"Becsült értékek\")\n",
    "for i in range(10):\n",
    "    print(y_pred_fuzzy[i])"
   ]
  },
  {
   "cell_type": "markdown",
   "metadata": {},
   "source": [
    "### Optimális klaszterszám megtalálása"
   ]
  },
  {
   "cell_type": "code",
   "execution_count": null,
   "metadata": {},
   "outputs": [],
   "source": [
    "from sklearn.cluster import KMeans\n",
    "kmeans_per_k = [KMeans(n_clusters=k, init='k-means++', n_init=1, \n",
    "                       random_state=42).fit(scaled_termek) for k in range(1,10)]\n",
    "\n",
    "inertia = [model.inertia_ for model in kmeans_per_k]\n",
    "\n",
    "plt.figure(figsize=(8,8))\n",
    "plt.title(\"Könyökdiagram K=1...9\", size=20)\n",
    "plt.plot(range(1,10), inertia, 'bo-')\n",
    "plt.xlabel('$k$', fontsize=15)\n",
    "plt.ylabel('Inercia', fontsize=15)\n",
    "plt.show()"
   ]
  },
  {
   "cell_type": "markdown",
   "metadata": {},
   "source": [
    "### Sziluett módszer"
   ]
  },
  {
   "cell_type": "code",
   "execution_count": null,
   "metadata": {},
   "outputs": [],
   "source": [
    "from sklearn.metrics import silhouette_score\n",
    "\n",
    "silhouettes = [silhouette_score(scaled_termek, model.labels_) for model in kmeans_per_k[1:]]\n",
    "\n",
    "plt.figure(figsize=(15,6))\n",
    "plt.title(\"Sziluett diagram K=2...9\", size=20)\n",
    "plt.plot(range(2,10), silhouettes, 'bo-')\n",
    "plt.xlabel('$k$', fontsize=14)\n",
    "plt.ylabel('Sziluett pont', fontsize=14)\n",
    "plt.show()"
   ]
  },
  {
   "cell_type": "markdown",
   "metadata": {},
   "source": [
    "### K-Means 5 klaszterrel"
   ]
  },
  {
   "cell_type": "code",
   "execution_count": null,
   "metadata": {},
   "outputs": [],
   "source": [
    "kmeans = KMeans(n_clusters=5, init='k-means++', n_init=100, max_iter=1000, random_state=42)\n",
    "kmeans.fit(scaled_termek)\n",
    "\n",
    "print('Inercia:', kmeans.inertia_)\n",
    "\n",
    "y_pred = kmeans.predict(scaled_termek)\n",
    "\n",
    "y_pred[:10]"
   ]
  },
  {
   "cell_type": "markdown",
   "metadata": {},
   "source": [
    "### Főkomponenselemzés"
   ]
  },
  {
   "cell_type": "code",
   "execution_count": null,
   "metadata": {},
   "outputs": [],
   "source": [
    "from sklearn.decomposition import PCA\n",
    "\n",
    "var_ratio = 2\n",
    "pca = PCA(n_components=var_ratio)\n",
    "pca.fit(scaled_termek)\n",
    "pca_data = pca.transform(scaled_termek)\n",
    "\n",
    "print('Főkomponensek száma: ', pca.n_components_)\n",
    "print('Megőrzött varianciahányad: ', np.sum(pca.explained_variance_ratio_))"
   ]
  },
  {
   "cell_type": "markdown",
   "metadata": {},
   "source": [
    "### PCA vizualizálása"
   ]
  },
  {
   "cell_type": "code",
   "execution_count": null,
   "metadata": {},
   "outputs": [],
   "source": [
    "fs=20 # betűméret\n",
    "\n",
    "create_pca_frame = lambda pcd: pd.DataFrame(pcd, columns = [str(x) for x in range(pcd.shape[1])])\n",
    "\n",
    "pca_frame = create_pca_frame(pca_data)\n",
    "\n",
    "# pca_frame['pred'] = pd.Series(y_pred) #Klaszterek \n",
    "\n",
    "pca_frame['pred'] = pd.Series(y_pred_fuzzy) #Fuzzy C-means klaszterek\n",
    "\n",
    "#cluster center\n",
    "centers = kmeans.cluster_centers_\n",
    "pca_centers = pd.DataFrame(pca.transform(centers), columns=['0','1'])\n",
    "\n",
    "plt.figure(figsize=(12,12))\n",
    "plt.title('K-közép algoritmus és főkomponenselemzés', size=fs+5)\n",
    "# cmap = sns.color_palette(\"bright\")[:5]\n",
    "ax = scatter(x='0', y='1', hue='pred', data=pca_frame)\n",
    "ax = scatter(x='0', y='1', color=\".2\", marker=\"+\", data=pca_centers)\n",
    "ax.legend(loc='upper right', fontsize=fs)\n",
    "ax.tick_params(labelsize=fs)\n",
    "ax.set_xlabel('Főkomponens1', size=fs)\n",
    "ax.set_ylabel('Főkomponens2', size=fs)\n",
    "plt.show()"
   ]
  },
  {
   "cell_type": "markdown",
   "metadata": {},
   "source": [
    "### Sziluett diagramok"
   ]
  },
  {
   "cell_type": "code",
   "execution_count": null,
   "metadata": {},
   "outputs": [],
   "source": [
    "from sklearn.metrics import silhouette_samples\n",
    "from matplotlib.ticker import FixedLocator, FixedFormatter\n",
    "import matplotlib as mpl\n",
    "\n",
    "plt.figure(figsize=(15,12))\n",
    "\n",
    "for k in (3,4,5,6):\n",
    "    plt.subplot(2, 2, k-2)\n",
    "    y_pred = kmeans_per_k[k-1].labels_\n",
    "    silhouette_coeffs = silhouette_samples(pca_data, y_pred)\n",
    "    \n",
    "    padding = len(pca_data) // 30\n",
    "    \n",
    "    pos = padding\n",
    "    ticks = []\n",
    "\n",
    "    for i in range(k):\n",
    "        coeffs = silhouette_coeffs[y_pred == i]\n",
    "        coeffs.sort()\n",
    "        \n",
    "        color = mpl.cm.Spectral(i / k)\n",
    "        plt.fill_betweenx(np.arange(pos, pos+len(coeffs)), 0, coeffs, facecolor=color, \n",
    "                          edgecolor=color, alpha=0.7)\n",
    "        ticks.append(pos + len(coeffs) // 2)\n",
    "        pos+=len(coeffs) + padding\n",
    "        \n",
    "    plt.gca().yaxis.set_major_locator(FixedLocator(ticks))\n",
    "    plt.gca().yaxis.set_major_formatter(FixedFormatter(range(k)))\n",
    "    \n",
    "    if k in (3,5):\n",
    "        plt.ylabel('Klaszter')\n",
    "    \n",
    "    if k in (5,6):\n",
    "        plt.gca().set_xticks([-0.1, 0, 0.2, 0.4, 0.6, 0.8, 1])\n",
    "        plt.xlabel('Sziluett pontszám')\n",
    "    else:\n",
    "        plt.tick_params(labelbottom=False)\n",
    "        \n",
    "    plt.axvline(x=silhouettes[k-2], color=\"red\", linestyle='--')\n",
    "    plt.title('$k={}$'.format(k), fontsize=16)\n",
    "\n",
    "plt.suptitle('Termékek klaszterszámának sziluett diagramjai', fontsize=16)\n",
    "plt.show()"
   ]
  },
  {
   "cell_type": "markdown",
   "metadata": {},
   "source": [
    "### Loading Score: mennyiben felel a varianciáért adott változó"
   ]
  },
  {
   "cell_type": "code",
   "execution_count": null,
   "metadata": {},
   "outputs": [],
   "source": [
    "loading_scores = pd.Series(pca.components_[0])\n",
    "sorted_loading_scores = loading_scores.abs().sort_values(ascending=False)\n",
    "\n",
    "loadings = pd.Series(loading_scores)\n",
    "factors = pd.Series(df_termek.columns)\n",
    "print(pd.concat([loadings, factors], axis=1))"
   ]
  },
  {
   "cell_type": "markdown",
   "metadata": {},
   "source": [
    "### Scree Plot: adott főkomponens mennyiben felel a varianciáért"
   ]
  },
  {
   "cell_type": "code",
   "execution_count": null,
   "metadata": {},
   "outputs": [],
   "source": [
    "per_var = np.round(pca.explained_variance_ratio_*100, decimals=1)\n",
    "labels = ['FK' + str(x) for x in range(1, len(per_var)+1)]\n",
    "plt.figure(figsize=(8,8))\n",
    "plt.bar(x=range(1,len(per_var)+1), height=per_var, tick_label=labels)\n",
    "plt.ylabel('Magyarázóerő (%)', size=15)\n",
    "plt.xlabel('Főkomponens', size=15)\n",
    "plt.title('Scree Plot', size=20)\n",
    "plt.show()"
   ]
  },
  {
   "cell_type": "markdown",
   "metadata": {},
   "source": [
    "### Klaszterek leírása statisztikailag"
   ]
  },
  {
   "cell_type": "code",
   "execution_count": null,
   "metadata": {},
   "outputs": [],
   "source": [
    "df_cluster = df_termek.copy().reset_index()\n",
    "\n",
    "df_cluster['pred'] = pd.Series(y_pred)\n",
    "df_cluster['cat'] = pd.Series(arak.reset_index()['cat'])\n",
    "\n",
    "n = kmeans.n_clusters\n",
    "\n",
    "df_stat = pd.DataFrame()\n",
    "for i in range(n):\n",
    "    stat = df_cluster[df_cluster['pred']==i][['vszam','bevetel','haszonkulcs','vnap']].describe()    \n",
    "    df_stat = pd.concat([df_stat, stat], axis=0)\n",
    "\n",
    "df_stat.index = [str(y)+'_'+str(int(x/8)) for x,y in zip(range(len(df_stat)), df_stat.index)]\n",
    "df_stat = df_stat.sort_index(axis=0)\n",
    "\n",
    "dict_stat = {j:df_stat.iloc[i:i+n,:] for i,j in zip(range(0, n*8, n), ['25','50','75','count','max',\n",
    "                                                                       'mean','min','std'])}\n",
    "\n",
    "dict_stat"
   ]
  },
  {
   "cell_type": "markdown",
   "metadata": {},
   "source": [
    "### Klaszterek leíró statisztikáinak vizualizálása"
   ]
  },
  {
   "cell_type": "code",
   "execution_count": null,
   "metadata": {
    "scrolled": false
   },
   "outputs": [],
   "source": [
    "def print_stat(prop, j):\n",
    "    fig = plt.figure(figsize=(12,12))\n",
    "    plt.title(prop, size=25)\n",
    "    ax0 = fig.add_subplot(j,2,1)\n",
    "    ax1 = fig.add_subplot(j,2,2)\n",
    "    ax2 = fig.add_subplot(j,2,3)\n",
    "    ax3 = fig.add_subplot(j,2,4)\n",
    "    #ax4 = fig.add_subplot(j,2,5)\n",
    "    ax0.bar(range(5),dict_stat[prop]['vszam'])\n",
    "    ax0.set_title('vszam', size=15)\n",
    "    ax1.bar(range(5),dict_stat[prop]['bevetel'])\n",
    "    ax1.set_title('bevetel', size=15)\n",
    "    ax2.bar(range(5),dict_stat[prop]['haszonkulcs'])\n",
    "    ax2.set_title('haszonkulcs', size=15)\n",
    "    ax3.bar(range(5),dict_stat[prop]['vnap'])\n",
    "    ax3.set_title('vnap', size=15)\n",
    "    #ax4.bar(range(5),dict_stat[prop]['ar'])\n",
    "    #ax4.set_title('ar')\n",
    "\n",
    "\n",
    "print_stat('mean', 2)\n",
    "print_stat('count', 2)\n",
    "print_stat('min', 2)\n",
    "print_stat('max', 2)"
   ]
  },
  {
   "cell_type": "markdown",
   "metadata": {},
   "source": [
    "### Különböző változók megoszlása a főkomponens diagramon\n",
    "Figyeljük meg, hogy a négy vizsgált változó hogyan oszlik el a főkomponens diagramon!"
   ]
  },
  {
   "cell_type": "code",
   "execution_count": null,
   "metadata": {
    "scrolled": false
   },
   "outputs": [],
   "source": [
    "fs=20\n",
    "\n",
    "create_pca_frame = lambda pcd: pd.DataFrame(pcd, columns = [str(x) for x in range(pcd.shape[1])])\n",
    "\n",
    "pca_frame = create_pca_frame(pca_data)\n",
    "\n",
    "pca_frame['pred'] = pd.Series(y_pred) #Klaszterek \n",
    "\n",
    "# pca_frame['pred'] = pd.Series(y_pred_fuzzy) #Fuzzy C-means klaszterek\n",
    "\n",
    "# pca_frame['pred'] = arak.reset_index()['cat'] #Árkategóriák\n",
    "\n",
    "scaled_frame = create_pca_frame(scaled_termek)\n",
    "for x,y in zip(range(4), ['vszam','bevetel','haszonkulcs','vnap']):    \n",
    "    pca_frame['pred'] = scaled_frame[str(x)]\n",
    "\n",
    "    #cluster center\n",
    "    centers = kmeans.cluster_centers_\n",
    "    pca_centers = pd.DataFrame(pca.transform(centers), columns=['0','1'])\n",
    "\n",
    "    plt.figure(figsize=(8,8))\n",
    "    plt.title('PCA, var='+y, size=fs+2)\n",
    "    ax = scatter(x='0', y='1', hue='pred', data=pca_frame)\n",
    "    ax = scatter(x='0', y='1', color=\".2\", marker=\"+\", data=pca_centers)\n",
    "    ax.legend(loc='upper right', fontsize=fs-4)\n",
    "    ax.tick_params(labelsize=fs)\n",
    "    ax.set_xlabel('FK1', size=fs)\n",
    "    ax.set_ylabel('FK2', size=fs)\n",
    "    plt.show()"
   ]
  },
  {
   "cell_type": "code",
   "execution_count": null,
   "metadata": {},
   "outputs": [],
   "source": []
  }
 ],
 "metadata": {
  "anaconda-cloud": {},
  "kernelspec": {
   "display_name": "Python 3",
   "language": "python",
   "name": "python3"
  },
  "language_info": {
   "codemirror_mode": {
    "name": "ipython",
    "version": 3
   },
   "file_extension": ".py",
   "mimetype": "text/x-python",
   "name": "python",
   "nbconvert_exporter": "python",
   "pygments_lexer": "ipython3",
   "version": "3.8.3"
  },
  "varInspector": {
   "cols": {
    "lenName": 16,
    "lenType": 16,
    "lenVar": 40
   },
   "kernels_config": {
    "python": {
     "delete_cmd_postfix": "",
     "delete_cmd_prefix": "del ",
     "library": "var_list.py",
     "varRefreshCmd": "print(var_dic_list())"
    },
    "r": {
     "delete_cmd_postfix": ") ",
     "delete_cmd_prefix": "rm(",
     "library": "var_list.r",
     "varRefreshCmd": "cat(var_dic_list()) "
    }
   },
   "types_to_exclude": [
    "module",
    "function",
    "builtin_function_or_method",
    "instance",
    "_Feature"
   ],
   "window_display": false
  }
 },
 "nbformat": 4,
 "nbformat_minor": 4
}

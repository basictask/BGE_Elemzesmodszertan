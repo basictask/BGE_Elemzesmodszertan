{
 "cells": [
  {
   "cell_type": "code",
   "execution_count": 6,
   "id": "b5bbf1f9-881b-442f-8694-2ea738e80bab",
   "metadata": {},
   "outputs": [],
   "source": [
    "import pandas as pd\n",
    "import numpy as np\n",
    "import matplotlib.pyplot as plt\n",
    "from sklearn.metrics import accuracy_score\n",
    "from sklearn.metrics import classification_report\n",
    "from sklearn.linear_model import RidgeClassifier\n",
    "from sklearn import datasets\n",
    "import warnings\n",
    "warnings.filterwarnings('ignore')"
   ]
  },
  {
   "cell_type": "code",
   "execution_count": 7,
   "id": "04516352-a4f1-49bd-83a6-b3b08ba13210",
   "metadata": {},
   "outputs": [],
   "source": [
    "iris = datasets.load_iris() # adatok betöltése\n",
    "X = iris[\"data\"][:, (2, 3)]  # szirom hossz, szirom szélesség\n",
    "y = iris[\"target\"] # célváltozó"
   ]
  },
  {
   "cell_type": "code",
   "execution_count": 8,
   "id": "93f777b2-c2dc-4a15-9879-defef0f9d708",
   "metadata": {},
   "outputs": [
    {
     "data": {
      "text/plain": [
       "RidgeClassifier()"
      ]
     },
     "execution_count": 8,
     "metadata": {},
     "output_type": "execute_result"
    }
   ],
   "source": [
    "clf = RidgeClassifier()\n",
    "clf.fit(X, y)"
   ]
  },
  {
   "cell_type": "code",
   "execution_count": 9,
   "id": "553d9a44-ee69-40f3-849b-2f2bd740e986",
   "metadata": {},
   "outputs": [],
   "source": [
    "x0, x1 = np.meshgrid(np.linspace(0, 8, 500).reshape(-1, 1),np.linspace(0, 3.5, 200).reshape(-1, 1),)\n",
    "X_new = np.c_[x0.ravel(), x1.ravel()]\n",
    "\n",
    "y_predict = clf.predict(X_new)"
   ]
  },
  {
   "cell_type": "code",
   "execution_count": 10,
   "id": "6d3cc916-bd11-4f80-9c71-ab8789d851d3",
   "metadata": {},
   "outputs": [
    {
     "data": {
      "image/png": "[encoded data removed]",
      "text/plain": [
       "<Figure size 720x288 with 1 Axes>"
      ]
     },
     "metadata": {
      "needs_background": "light"
     },
     "output_type": "display_data"
    }
   ],
   "source": [
    "zz = y_predict.reshape(x0.shape)\n",
    "\n",
    "plt.figure(figsize=(10, 4))\n",
    "plt.plot(X[y==2, 0], X[y==2, 1], \"g^\", label=\"Iris virginica\")\n",
    "plt.plot(X[y==1, 0], X[y==1, 1], \"bs\", label=\"Iris versicolor\")\n",
    "plt.plot(X[y==0, 0], X[y==0, 1], \"yo\", label=\"Iris setosa\")\n",
    "\n",
    "from matplotlib.colors import ListedColormap\n",
    "custom_cmap = ListedColormap(['#fafab0','#9898ff','#a0faa0'])\n",
    "\n",
    "plt.contourf(x0, x1, zz, cmap=custom_cmap)\n",
    "plt.xlabel(\"Szirom hossz\", fontsize=14)\n",
    "plt.ylabel(\"Szirom szélesség\", fontsize=14)\n",
    "plt.legend(loc=\"center left\", fontsize=14)\n",
    "plt.axis([0, 7, 0, 3.5])\n",
    "plt.show()"
   ]
  },
  {
   "cell_type": "code",
   "execution_count": 12,
   "id": "9852ab17-1d77-4118-bcd7-a1610475d7b0",
   "metadata": {},
   "outputs": [
    {
     "name": "stdout",
     "output_type": "stream",
     "text": [
      "Accuracy: 77.33333333333333 %\n",
      "Classification Stats:\n",
      "              precision    recall  f1-score   support\n",
      "\n",
      "           0       0.91      1.00      0.95        50\n",
      "           1       0.77      0.46      0.57        50\n",
      "           2       0.66      0.86      0.75        50\n",
      "\n",
      "    accuracy                           0.77       150\n",
      "   macro avg       0.78      0.77      0.76       150\n",
      "weighted avg       0.78      0.77      0.76       150\n",
      "\n"
     ]
    }
   ],
   "source": [
    "pred_labels = clf.predict(X)\n",
    "actual_labels = np.array(y)\n",
    "\n",
    "print('Accuracy:', float(accuracy_score(actual_labels, pred_labels))*100, '%')\n",
    "print('Classification Stats:')\n",
    "print(classification_report(actual_labels, pred_labels))"
   ]
  },
  {
   "cell_type": "code",
   "execution_count": null,
   "id": "220e50ee-cbd4-4e88-9ca3-7147dfd13aaa",
   "metadata": {},
   "outputs": [],
   "source": []
  },
  {
   "cell_type": "code",
   "execution_count": null,
   "id": "0e88ea02-d325-45c9-9edb-9d354223b084",
   "metadata": {},
   "outputs": [],
   "source": []
  }
 ],
 "metadata": {
  "kernelspec": {
   "display_name": "Python 3 (ipykernel)",
   "language": "python",
   "name": "python3"
  },
  "language_info": {
   "codemirror_mode": {
    "name": "ipython",
    "version": 3
   },
   "file_extension": ".py",
   "mimetype": "text/x-python",
   "name": "python",
   "nbconvert_exporter": "python",
   "pygments_lexer": "ipython3",
   "version": "3.8.3"
  }
 },
 "nbformat": 4,
 "nbformat_minor": 5
}

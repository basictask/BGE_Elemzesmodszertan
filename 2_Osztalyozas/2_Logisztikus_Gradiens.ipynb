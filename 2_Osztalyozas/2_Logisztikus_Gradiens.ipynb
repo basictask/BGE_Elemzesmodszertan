{
 "cells": [
  {
   "cell_type": "markdown",
   "metadata": {},
   "source": [
    "## Gradiens ereszkedés: Logsztikus függvény illesztése\n",
    "Ez a demonstráció nagyon hasonló az előző órán látottakhoz. Megfigyelhetjük, hogyan illeszt a gradiens ereszkedő egy logisztikus függvény egy adathalmazra"
   ]
  },
  {
   "cell_type": "code",
   "execution_count": null,
   "metadata": {},
   "outputs": [],
   "source": [
    "# Könyvtárak\n",
    "import numpy as np\n",
    "import matplotlib.pyplot as plt\n",
    "plt.rcParams.update({'figure.max_open_warning': 1000}) # Ezzel óvatosan"
   ]
  },
  {
   "cell_type": "markdown",
   "metadata": {},
   "source": [
    "### Adatok generálása\n",
    "Ezek véletlen adatok lesznek, a valóságban ilyenekre ne számítsunk! "
   ]
  },
  {
   "cell_type": "code",
   "execution_count": null,
   "metadata": {},
   "outputs": [],
   "source": [
    "X = np.array(np.linspace(0, 10, 100))\n",
    "\n",
    "y = []\n",
    "for i in range(len(X)):\n",
    "    if (X[i] < 5):\n",
    "        y.append(0)\n",
    "    else:\n",
    "        y.append(1)\n",
    "        \n",
    "y = np.array(y)"
   ]
  },
  {
   "cell_type": "markdown",
   "metadata": {},
   "source": [
    "### Adatok ábrázolása "
   ]
  },
  {
   "cell_type": "code",
   "execution_count": null,
   "metadata": {},
   "outputs": [],
   "source": [
    "plt.figure(figsize=(12, 7))\n",
    "plt.scatter(X, y)"
   ]
  },
  {
   "cell_type": "markdown",
   "metadata": {},
   "source": [
    "### Együtthatók kezdeti értéke"
   ]
  },
  {
   "cell_type": "code",
   "execution_count": null,
   "metadata": {},
   "outputs": [],
   "source": [
    "b0 = 0\n",
    "b1 = 0\n",
    "alpha = 0.001"
   ]
  },
  {
   "cell_type": "markdown",
   "metadata": {},
   "source": [
    "### Függvény definiálása"
   ]
  },
  {
   "cell_type": "code",
   "execution_count": null,
   "metadata": {},
   "outputs": [],
   "source": [
    "def sigmoid(b0, b1, x):\n",
    "    return 1/(1 + np.exp((-1)*(b0 + b1*x)))\n",
    "\n",
    "P = sigmoid(b0, b1, X)"
   ]
  },
  {
   "cell_type": "markdown",
   "metadata": {},
   "source": [
    "### Függvény Ábrázolása"
   ]
  },
  {
   "cell_type": "code",
   "execution_count": null,
   "metadata": {},
   "outputs": [],
   "source": [
    "plt.figure(figsize=(12, 7))\n",
    "plt.scatter(X, y)\n",
    "plt.plot(X, P, color='red')"
   ]
  },
  {
   "cell_type": "markdown",
   "metadata": {},
   "source": [
    "### Kezdeti Hiba értéke"
   ]
  },
  {
   "cell_type": "code",
   "execution_count": null,
   "metadata": {},
   "outputs": [],
   "source": [
    "np.sum(-y*np.log(P) - (1-y)*np.log(1-P))"
   ]
  },
  {
   "cell_type": "markdown",
   "metadata": {},
   "source": [
    "### Értékek közelítése 1 iterációval"
   ]
  },
  {
   "cell_type": "code",
   "execution_count": null,
   "metadata": {},
   "outputs": [],
   "source": [
    "#együtthatók újraszámolása\n",
    "b0 = b0 - np.sum(P - y)*alpha\n",
    "b1 = b1 - np.sum((P - y)*X)*alpha\n",
    "\n",
    "#sigmoid függvény újraszámolása\n",
    "P = sigmoid(b0, b1, X)\n",
    "\n",
    "def plot_log():\n",
    "    plt.figure(figsize=(12, 7))                         #méret\n",
    "    plt.scatter(X, y)                                   #adat pontok\n",
    "    plt.plot(X, P, color='red')                         #sigmoid függvény\n",
    "    plt.plot(X, X*0+0.5, color='grey', linestyle='--')  #szürke szaggatott vonal p=0,5-höz\n",
    "\n",
    "plot_log()"
   ]
  },
  {
   "cell_type": "markdown",
   "metadata": {},
   "source": [
    "### Értékek közelítése tetszőleges számú iterációval\n",
    "Próbáljuk meg átírni az iter_n változót, és figyeljük meg, mi történik!"
   ]
  },
  {
   "cell_type": "code",
   "execution_count": null,
   "metadata": {},
   "outputs": [],
   "source": [
    "b0 = 0\n",
    "b1 = 0\n",
    "alpha = 0.001"
   ]
  },
  {
   "cell_type": "code",
   "execution_count": null,
   "metadata": {},
   "outputs": [],
   "source": [
    "iter_n = 100\n",
    "for i in range(iter_n):\n",
    "    b0 = b0 - np.sum(P - y)*alpha\n",
    "    b1 = b1 - np.sum((P - y)*X)*alpha\n",
    "    P = 1/(1 + np.exp((-1)*(b0 + b1*X)))\n",
    "\n",
    "plot_log()\n",
    "    \n",
    "print('összes hiba nagysága: ', np.sum(-y*np.log(P) - (1-y)*np.log(1-P)))"
   ]
  },
  {
   "cell_type": "code",
   "execution_count": null,
   "metadata": {},
   "outputs": [],
   "source": []
  }
 ],
 "metadata": {
  "anaconda-cloud": {},
  "kernelspec": {
   "display_name": "Python 3 (ipykernel)",
   "language": "python",
   "name": "python3"
  },
  "language_info": {
   "codemirror_mode": {
    "name": "ipython",
    "version": 3
   },
   "file_extension": ".py",
   "mimetype": "text/x-python",
   "name": "python",
   "nbconvert_exporter": "python",
   "pygments_lexer": "ipython3",
   "version": "3.8.3"
  },
  "varInspector": {
   "cols": {
    "lenName": 16,
    "lenType": 16,
    "lenVar": 40
   },
   "kernels_config": {
    "python": {
     "delete_cmd_postfix": "",
     "delete_cmd_prefix": "del ",
     "library": "var_list.py",
     "varRefreshCmd": "print(var_dic_list())"
    },
    "r": {
     "delete_cmd_postfix": ") ",
     "delete_cmd_prefix": "rm(",
     "library": "var_list.r",
     "varRefreshCmd": "cat(var_dic_list()) "
    }
   },
   "types_to_exclude": [
    "module",
    "function",
    "builtin_function_or_method",
    "instance",
    "_Feature"
   ],
   "window_display": false
  }
 },
 "nbformat": 4,
 "nbformat_minor": 4
}

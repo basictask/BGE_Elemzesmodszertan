{
 "cells": [
  {
   "cell_type": "markdown",
   "metadata": {},
   "source": [
    "# Lineáris Regresszió "
   ]
  },
  {
   "cell_type": "code",
   "execution_count": null,
   "metadata": {},
   "outputs": [],
   "source": [
    "import pandas as pd\n",
    "import numpy as np\n",
    "import matplotlib.pyplot as plt\n",
    "import statsmodels.api as sm\n",
    "from sklearn.linear_model import LinearRegression"
   ]
  },
  {
   "cell_type": "markdown",
   "metadata": {},
   "source": [
    "### Adatok beolvasása"
   ]
  },
  {
   "cell_type": "code",
   "execution_count": null,
   "metadata": {},
   "outputs": [],
   "source": [
    "df = pd.read_csv('gdp_kisajatitas.csv')\n",
    "df.head()"
   ]
  },
  {
   "cell_type": "markdown",
   "metadata": {},
   "source": [
    "### Adatok ábrázolása"
   ]
  },
  {
   "cell_type": "code",
   "execution_count": null,
   "metadata": {},
   "outputs": [],
   "source": [
    "plt.style.use('seaborn')\n",
    "\n",
    "plt.figure(figsize=(10, 10))\n",
    "plt.title(\"Országok kizsákmányolhatósága\", size=20)\n",
    "plt.scatter(x='logpgp95', y='avexpr', data=df)\n",
    "plt.ylabel('Kizsákmányolhatóság', size=15)\n",
    "plt.xlabel(\"GDP\", size=15)\n",
    "plt.show()"
   ]
  },
  {
   "cell_type": "markdown",
   "metadata": {},
   "source": [
    "### Adatok tisztítása"
   ]
  },
  {
   "cell_type": "code",
   "execution_count": null,
   "metadata": {},
   "outputs": [],
   "source": [
    "df_clean = df.dropna().copy()\n",
    "df_clean['const'] = 1 # az y tengelymetszet nem lehet 0, mert nincs 0 GDP ország\n",
    "\n",
    "# Változók felvétele\n",
    "x = df_clean.loc[:, 'logpgp95']\n",
    "y = df_clean.loc[:, 'avexpr']\n",
    "labels = df_clean.loc[:, 'shortnam']\n",
    "\n",
    "df_clean.head()"
   ]
  },
  {
   "cell_type": "markdown",
   "metadata": {},
   "source": [
    "### Rergressziós modell felállítása"
   ]
  },
  {
   "cell_type": "code",
   "execution_count": null,
   "metadata": {},
   "outputs": [],
   "source": [
    "reg1 = sm.OLS(endog=y, exog=df_clean[['const', 'avexpr']]) #endog: függő változó, exog: független változó\n",
    "\n",
    "print(\"Reg1 type:\")\n",
    "print(type(reg1))\n",
    "\n",
    "# A tanítás eljárása\n",
    "results = reg1.fit()\n",
    "\n",
    "type(results)\n",
    "\n",
    "# A modell\n",
    "print(results.summary())"
   ]
  },
  {
   "cell_type": "markdown",
   "metadata": {},
   "source": [
    "### Lineáris trendvonal illesztése"
   ]
  },
  {
   "cell_type": "code",
   "execution_count": null,
   "metadata": {},
   "outputs": [],
   "source": [
    "fig, ax = plt.subplots(figsize=(10,10))\n",
    "ax.scatter(x, y, marker='')\n",
    "\n",
    "for i, label in enumerate(labels):\n",
    "    ax.annotate(label, (x.iloc[i], y.iloc[i]))\n",
    "    \n",
    "line = np.poly1d(np.polyfit(x, y, 1))(np.unique(x))\n",
    "ax.plot(np.unique(x), line, color='black')\n",
    "\n",
    "ax.set_title(\"Lineáris modell\", size=20)\n",
    "ax.set_xlabel(\"GDP\", size=15)\n",
    "ax.set_ylabel(\"Kizsákmányolhatóság\", size=15)\n",
    "plt.show()"
   ]
  },
  {
   "cell_type": "markdown",
   "metadata": {},
   "source": [
    "### Predikciók készítése"
   ]
  },
  {
   "cell_type": "code",
   "execution_count": null,
   "metadata": {},
   "outputs": [],
   "source": [
    "fig, ax = plt.subplots(figsize=(10,10))\n",
    "\n",
    "ax.scatter(df_clean['avexpr'], results.predict(), alpha=0.8, label='predicted')\n",
    "\n",
    "ax.scatter(df_clean['avexpr'], df_clean['logpgp95'], alpha=0.8, label='observed')\n",
    "\n",
    "ax.legend()\n",
    "ax.set_title(\"Egyedi pontokhoz tartozó predikciók\", size=20)\n",
    "ax.set_xlabel(\"GDP\", size=15)\n",
    "ax.set_ylabel(\"Kizsákmányolhatóság\", size=15)\n",
    "plt.show()"
   ]
  },
  {
   "cell_type": "markdown",
   "metadata": {},
   "source": [
    "### Gradiens ereszkedés: a kezdeti egyenes felvétele"
   ]
  },
  {
   "cell_type": "code",
   "execution_count": null,
   "metadata": {},
   "outputs": [],
   "source": [
    "#Egyenes ábrázolása\n",
    "def plotf():\n",
    "    plt.figure(figsize=(10, 10))\n",
    "    plt.scatter(x, y)\n",
    "    plt.plot(x, f, color='red')"
   ]
  },
  {
   "cell_type": "code",
   "execution_count": null,
   "metadata": {},
   "outputs": [],
   "source": [
    "# Paraméterek felvétele\n",
    "b0 = 0\n",
    "b1 = 0\n",
    "\n",
    "#Egyenes egyenlete\n",
    "f = b0 + b1*x\n",
    "\n",
    "#Eltérés-négyzet\n",
    "print(\"Hiba:\", np.sum((f - y)**2))\n",
    "\n",
    "plotf()"
   ]
  },
  {
   "cell_type": "markdown",
   "metadata": {},
   "source": [
    "### b0 és b1 közelítése az optimálishoz"
   ]
  },
  {
   "cell_type": "code",
   "execution_count": null,
   "metadata": {},
   "outputs": [],
   "source": [
    "#Tanulási sebesség\n",
    "alpha = 0.00001\n",
    "\n",
    "b0 = b0 - np.sum(2*(b0 + b1*x - y))*alpha\n",
    "b1 = b1 - np.sum(2*(b0 + b1*x - y)*x)*alpha\n",
    "\n",
    "print('b0: ', b0, ' b1: ', b1)\n",
    "print('Hiba:', np.sum((f - y)**2))\n",
    "\n",
    "# Regresszió fgv újraszámolása\n",
    "f = b0 + b1*x\n",
    "\n",
    "plotf()"
   ]
  },
  {
   "cell_type": "markdown",
   "metadata": {},
   "source": [
    "### Hiba számolása ciklikusan"
   ]
  },
  {
   "cell_type": "code",
   "execution_count": null,
   "metadata": {},
   "outputs": [],
   "source": [
    "b0=0\n",
    "b1=0\n",
    "\n",
    "hibakovetes = []\n",
    "alpha = 0.00001\n",
    "\n",
    "for i in range(1000):\n",
    "    b0 = b0 - np.sum(2*(b0 + b1*x - y))*alpha\n",
    "    b1 = b1 - np.sum(2*(b0 + b1*x - y)*x)*alpha\n",
    "    hibakovetes.append(np.sum((b0 + b1*x - y)**2))\n",
    "    \n",
    "    \n",
    "f = b0 + b1*x\n",
    "print('b0: ', b0, ' b1: ', b1)\n",
    "print('Hiba: ', np.sum((f - y)**2))\n",
    "plotf()"
   ]
  },
  {
   "cell_type": "markdown",
   "metadata": {},
   "source": [
    "### A számolt hiba ábrázolása"
   ]
  },
  {
   "cell_type": "code",
   "execution_count": null,
   "metadata": {},
   "outputs": [],
   "source": [
    "plt.figure(figsize=(10, 10))\n",
    "plt.scatter(np.linspace(0, len(hibakovetes), len(hibakovetes)), hibakovetes)"
   ]
  },
  {
   "cell_type": "markdown",
   "metadata": {},
   "source": [
    "### Hiba változása százalékban kifejezve, az első száz elemre"
   ]
  },
  {
   "cell_type": "code",
   "execution_count": null,
   "metadata": {},
   "outputs": [],
   "source": [
    "hibaszazalek = []\n",
    "for i in range(1, len(hibakovetes)):\n",
    "    hibaszazalek.append(hibakovetes[i-1] / hibakovetes[i])\n",
    "\n",
    "hibaszazalek = hibaszazalek[:100]\n",
    "plt.scatter(np.linspace(0, len(hibaszazalek), len(hibaszazalek)), hibaszazalek)"
   ]
  },
  {
   "cell_type": "code",
   "execution_count": null,
   "metadata": {},
   "outputs": [],
   "source": []
  }
 ],
 "metadata": {
  "anaconda-cloud": {},
  "kernelspec": {
   "display_name": "Python 3",
   "language": "python",
   "name": "python3"
  },
  "language_info": {
   "codemirror_mode": {
    "name": "ipython",
    "version": 3
   },
   "file_extension": ".py",
   "mimetype": "text/x-python",
   "name": "python",
   "nbconvert_exporter": "python",
   "pygments_lexer": "ipython3",
   "version": "3.8.3"
  },
  "varInspector": {
   "cols": {
    "lenName": 16,
    "lenType": 16,
    "lenVar": 40
   },
   "kernels_config": {
    "python": {
     "delete_cmd_postfix": "",
     "delete_cmd_prefix": "del ",
     "library": "var_list.py",
     "varRefreshCmd": "print(var_dic_list())"
    },
    "r": {
     "delete_cmd_postfix": ") ",
     "delete_cmd_prefix": "rm(",
     "library": "var_list.r",
     "varRefreshCmd": "cat(var_dic_list()) "
    }
   },
   "types_to_exclude": [
    "module",
    "function",
    "builtin_function_or_method",
    "instance",
    "_Feature"
   ],
   "window_display": false
  }
 },
 "nbformat": 4,
 "nbformat_minor": 4
}

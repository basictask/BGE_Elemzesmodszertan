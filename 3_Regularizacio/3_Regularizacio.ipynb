{
 "cells": [
  {
   "cell_type": "markdown",
   "metadata": {},
   "source": [
    "## Regularizált modellek\n",
    "### Lasso, Ridge, Elastic net"
   ]
  },
  {
   "cell_type": "code",
   "execution_count": null,
   "metadata": {},
   "outputs": [],
   "source": [
    "import warnings\n",
    "warnings.filterwarnings('ignore')\n",
    "\n",
    "import pandas as pd\n",
    "import numpy as np\n",
    "import seaborn as sns\n",
    "import matplotlib.pyplot as plt\n",
    "\n",
    "# Modellezési eljárások\n",
    "from sklearn.linear_model import Ridge\n",
    "from sklearn.linear_model import Lasso\n",
    "from sklearn.linear_model import ElasticNetCV\n",
    "from sklearn.linear_model import MultiTaskElasticNetCV # Többváltozós elasztikus háló\n",
    "from sklearn.linear_model import SGDRegressor\n",
    "\n",
    "# Adatátalakítási könyvtárak\n",
    "from sklearn.model_selection import train_test_split\n",
    "from sklearn.preprocessing import StandardScaler\n",
    "from sklearn.pipeline import Pipeline\n",
    "from sklearn.preprocessing import PolynomialFeatures\n",
    "from sklearn.base import clone\n",
    "from sklearn.metrics import mean_squared_error\n",
    "from sklearn import linear_model"
   ]
  },
  {
   "cell_type": "markdown",
   "metadata": {},
   "source": [
    "### Random adatok"
   ]
  },
  {
   "cell_type": "code",
   "execution_count": null,
   "metadata": {},
   "outputs": [],
   "source": [
    "np.random.seed(42)\n",
    "m = 20\n",
    "X = 3 * np.random.rand(m, 1)\n",
    "y = 1 + 0.5 * X + np.random.randn(m, 1) / 1.5\n",
    "X_new = np.linspace(0, 3, 100).reshape(100, 1)\n",
    "\n",
    "plt.figure(figsize=(10, 8))\n",
    "plt.title(\"Véletlen adatok\", size=15)\n",
    "plt.plot(X, y, \"b.\")\n",
    "plt.show()"
   ]
  },
  {
   "cell_type": "markdown",
   "metadata": {},
   "source": [
    "### Ridge"
   ]
  },
  {
   "cell_type": "code",
   "execution_count": null,
   "metadata": {},
   "outputs": [],
   "source": [
    "# Próbáljuk meg állítgatni a hiperparamétereket! Milyen változást figyelhetünk meg? \n",
    "ridge_alpha = 0.00001\n",
    "poly_deg = 10\n",
    "\n",
    "reg = Ridge(alpha=ridge_alpha, solver=\"cholesky\", random_state=42) \n",
    "\n",
    "# Transzformációs csővezeték\n",
    "model = Pipeline([\n",
    "    (\"poly_features\", PolynomialFeatures(degree=poly_deg, include_bias=False)), # Polinomikus jellemzők hozzáadása\n",
    "    (\"std_scaler\", StandardScaler()), # Sztenderdizálás és normalizálás\n",
    "    (\"regul_reg\", reg)]) # Regresszor ráküldése\n",
    "\n",
    "model.fit(X, y)\n",
    "y_new_regul = model.predict(X_new)\n",
    "\n",
    "plt.figure(figsize=(10,8))\n",
    "plt.title(\"Ridge modell véletlen adatokon. Alpha=\"+str(ridge_alpha)+\", Poly=\"+str(poly_deg), size=15)\n",
    "plt.plot(X_new, y_new_regul)\n",
    "plt.plot(X, y, \"b.\", linewidth=3)\n",
    "plt.show()"
   ]
  },
  {
   "cell_type": "markdown",
   "metadata": {},
   "source": [
    "### Lasso"
   ]
  },
  {
   "cell_type": "code",
   "execution_count": null,
   "metadata": {},
   "outputs": [],
   "source": [
    "# Hiperparaméterek felvétele. Milyen változásokat tapasztalunk?\n",
    "lasso_alpha = 0.001\n",
    "poly_deg = 4\n",
    "\n",
    "reg = Lasso(alpha=lasso_alpha) # Próbáljuk meg állítgatni az alpha hiperparamétert!\n",
    "\n",
    "model = Pipeline([ # Mi hiányzik a modell csővezetékből?\n",
    "    (\"poly_features\", PolynomialFeatures(degree=poly_deg, include_bias=False)), \n",
    "    (\"regul_reg\", reg)])\n",
    "\n",
    "model.fit(X, y)\n",
    "\n",
    "y_new_regul = model.predict(X_new)\n",
    "\n",
    "plt.figure(figsize=(10,8))\n",
    "plt.title(\"Lasso modell véletlen adatokon. Alpha=\"+str(lasso_alpha)+\", Poly=\"+str(poly_deg), size=15)\n",
    "plt.plot(X_new, y_new_regul)\n",
    "plt.plot(X, y, \"b.\", linewidth=3)\n",
    "plt.show()"
   ]
  },
  {
   "cell_type": "markdown",
   "metadata": {},
   "source": [
    "### Early stopping"
   ]
  },
  {
   "cell_type": "code",
   "execution_count": null,
   "metadata": {},
   "outputs": [],
   "source": [
    "np.random.seed(42)\n",
    "m = 100\n",
    "X = 6 * np.random.rand(m, 1) - 3\n",
    "y = 2 + X + 0.5 * X**2 + np.random.randn(m, 1)\n",
    "\n",
    "X_train, X_val, y_train, y_val = train_test_split(X[:50], y[:50].ravel(), test_size=0.5, random_state=10)"
   ]
  },
  {
   "cell_type": "markdown",
   "metadata": {},
   "source": [
    "### Egy egyszerű Early Stopping implementáció"
   ]
  },
  {
   "cell_type": "code",
   "execution_count": null,
   "metadata": {},
   "outputs": [],
   "source": [
    "poly_scaler = Pipeline([ # Jellemzők szerkesztése\n",
    "        (\"poly_features\", PolynomialFeatures(degree=90, include_bias=False)),\n",
    "        (\"std_scaler\", StandardScaler())])\n",
    "\n",
    "X_train_poly_scaled = poly_scaler.fit_transform(X_train)\n",
    "X_val_poly_scaled = poly_scaler.transform(X_val)\n",
    "\n",
    "# Egy regresszor definiálása az early stopping demonstrálására\n",
    "sgd_reg = SGDRegressor(max_iter=1, # A modell: ez lehet bármi aminek kiszámolható a hibája\n",
    "                       tol=-np.infty, # Megállítási kritérium\n",
    "                       warm_start=True, # Megtartja az előző modellt, és azt tanítja tovább\n",
    "                       penalty=None, # Büntetés: Próbáljuk meg regularizálni!\n",
    "                       learning_rate=\"constant\", # Van-e adaptív tanulási sebesség\n",
    "                       eta0=0.0005, # Kezdeti tanulási sebesség\n",
    "                       random_state=42) # Véletlenszám-generáló bázisértéke\n",
    "\n",
    "# Tanítás és early stopping futtatása\n",
    "minimum_val_error = float(\"inf\")\n",
    "best_epoch = None\n",
    "best_model = None\n",
    "error_track = []\n",
    "for epoch in range(1000):\n",
    "    sgd_reg.fit(X_train_poly_scaled, y_train)  # Folytassa ott, ahol abbahagyta\n",
    "    y_val_predict = sgd_reg.predict(X_val_poly_scaled)\n",
    "    val_error = mean_squared_error(y_val, y_val_predict)\n",
    "    error_track.append(val_error)\n",
    "    \n",
    "    if val_error < minimum_val_error: # Early Stopping kritérium\n",
    "        minimum_val_error = val_error\n",
    "        best_epoch = epoch\n",
    "        best_model = clone(sgd_reg)"
   ]
  },
  {
   "cell_type": "code",
   "execution_count": null,
   "metadata": {},
   "outputs": [],
   "source": [
    "plt.figure(figsize=(10, 8))\n",
    "plt.title(\"Early stopping hibakövetés\", size=20)\n",
    "plt.plot(error_track)\n",
    "plt.plot(best_epoch, error_track[best_epoch], color='red', marker='x', markersize=15, markeredgewidth='2')\n",
    "plt.annotate('Early Stop', xy = (best_epoch, error_track[best_epoch]+0.5), size=15)\n",
    "plt.xlabel(\"Iteráció\", size=15)\n",
    "plt.ylabel(\"Hiba\", size=15)\n",
    "plt.show()"
   ]
  },
  {
   "cell_type": "markdown",
   "metadata": {},
   "source": [
    "### Elasztikus háló a halas adatokon\n",
    "Adatok előkészítése"
   ]
  },
  {
   "cell_type": "code",
   "execution_count": null,
   "metadata": {},
   "outputs": [],
   "source": [
    "df = pd.read_csv('halak.csv', header=0, sep=';', encoding='ISO-8859-2')\n",
    "\n",
    "df = df[['Suly', 'Hossz1', 'Hossz2', 'Hossz3', 'Magassag', 'Szelesseg']]\n",
    "\n",
    "# df_X = df[['Hossz1']]\n",
    "\n",
    "df_X = df[['Magassag']] # Próbáljuk ki ezzel is! \n",
    "\n",
    "poly_scaler = Pipeline([(\"std_scaler\", StandardScaler())])\n",
    "\n",
    "X = poly_scaler.fit_transform(df_X)\n",
    "Y = df['Hossz1']\n",
    "\n",
    "X_train, X_val, y_train, y_val = train_test_split(X, Y, test_size=0.5, random_state=420)"
   ]
  },
  {
   "cell_type": "markdown",
   "metadata": {},
   "source": [
    "#### Korrelációs mátrix"
   ]
  },
  {
   "cell_type": "code",
   "execution_count": null,
   "metadata": {},
   "outputs": [],
   "source": [
    "corr = df.corr() \n",
    "\n",
    "plt.figure(figsize=(8,8))\n",
    "sns.heatmap(corr, xticklabels=corr.columns.values, yticklabels=corr.columns.values,  annot = True, annot_kws={'size':12})\n",
    "heat_map=plt.gcf()\n",
    "heat_map.set_size_inches(8,8)\n",
    "\n",
    "plt.xticks(fontsize=10)\n",
    "plt.yticks(fontsize=10)\n",
    "plt.show()"
   ]
  },
  {
   "cell_type": "markdown",
   "metadata": {},
   "source": [
    "#### Nézzük meg az adatokat"
   ]
  },
  {
   "cell_type": "code",
   "execution_count": null,
   "metadata": {},
   "outputs": [],
   "source": [
    "display(df.head())\n",
    "\n",
    "print('x_train')\n",
    "display(pd.DataFrame(X_train).head())\n",
    "print()\n",
    "\n",
    "print('y_train')\n",
    "display(pd.DataFrame(y_train).head())\n",
    "print()\n",
    "\n",
    "print('x_train méret')\n",
    "print(len(X_train))\n",
    "\n",
    "print('x_test méret')\n",
    "print(len(X_val))"
   ]
  },
  {
   "cell_type": "markdown",
   "metadata": {},
   "source": [
    "### Elasztikus háló "
   ]
  },
  {
   "cell_type": "code",
   "execution_count": null,
   "metadata": {},
   "outputs": [],
   "source": [
    "errorlog = {}\n",
    "for i in range(1, 10, 1):\n",
    "    alpha = i/10\n",
    "    model = ElasticNetCV(l1_ratio=alpha, fit_intercept=True, normalize=True)\n",
    "    \n",
    "    model.fit(X_train, y_train)\n",
    "    \n",
    "    y_pred =  model.predict(np.array(X_val).reshape(-1,1))\n",
    "    \n",
    "    errorlog[alpha] = mean_squared_error(y_val, y_pred)\n",
    "    \n",
    "    fig, ax = plt.subplots(figsize=(8,5))\n",
    "    \n",
    "    ax.set_title(\"Elastic net, alpha=\"+str(alpha)+\", hiba=\"+str(errorlog[alpha]))\n",
    "    \n",
    "    ax.scatter(X_val[:,0], y_pred, alpha=0.8, label='Becsült értékek')\n",
    "    ax.scatter(X_val[:,0], y_val, alpha=0.8, label='Megfigyelt értékek')\n",
    "    \n",
    "    ax.legend()\n",
    "    plt.show()"
   ]
  },
  {
   "cell_type": "code",
   "execution_count": null,
   "metadata": {},
   "outputs": [],
   "source": [
    "plt.figure(figsize=(10,8))\n",
    "plt.title(\"Hiba mértéke az alpha hiperparaméter függvényében\", size=20)\n",
    "plt.xlabel(\"Lasso arány\", size=15)\n",
    "plt.ylabel(\"Hiba\", size=15)\n",
    "plt.plot(errorlog.keys(), errorlog.values())\n",
    "plt.show()"
   ]
  },
  {
   "cell_type": "markdown",
   "metadata": {},
   "source": [
    "### Multitask Elastic Net\n",
    "Az elasztikus hálózat többváltozós verziója"
   ]
  },
  {
   "cell_type": "code",
   "execution_count": null,
   "metadata": {},
   "outputs": [],
   "source": [
    "df_X = df[['Hossz2', 'Hossz3', 'Magassag', 'Szelesseg']]\n",
    "\n",
    "poly_scaler = Pipeline([(\"std_scaler\", StandardScaler())]) # X átalakítója \n",
    "\n",
    "X = poly_scaler.fit_transform(df_X) # X sztenderdizálása\n",
    "\n",
    "Y = np.array(df['Hossz1']).reshape(-1,1) # Y definiálás\n",
    "\n",
    "X_train, X_val, y_train, y_val = train_test_split(X, Y, test_size=0.5, random_state=420) # train-test kettécsapás\n",
    "\n",
    "display(df_X)\n",
    "\n",
    "print('x_train')\n",
    "display(pd.DataFrame(X_train).head())\n",
    "print()\n",
    "\n",
    "print('y_train')\n",
    "display(pd.DataFrame(y_train).head())\n",
    "print()\n",
    "\n",
    "print('x_train méret')\n",
    "print(len(X_train))\n",
    "\n",
    "print('x_test méret')\n",
    "print(len(X_val))"
   ]
  },
  {
   "cell_type": "code",
   "execution_count": null,
   "metadata": {},
   "outputs": [],
   "source": [
    "# MultitaskElasticNet futtatása, hiba követése\n",
    "errorlog_multi = {}\n",
    "for i in range(1, 10, 1):\n",
    "    alpha = i/10\n",
    "    model = MultiTaskElasticNetCV(l1_ratio=alpha, fit_intercept=True)\n",
    "    \n",
    "    model.fit(X_train, y_train)\n",
    "    \n",
    "    y_pred =  model.predict(X_val)\n",
    "    \n",
    "    errorlog_multi[alpha] = mean_squared_error(y_val, y_pred)\n",
    "    \n",
    "    fig, ax = plt.subplots(figsize=(8,5))\n",
    "    ax.set_title(\"Multitask Elastic net, alpha=\"+str(alpha)+\", hiba=\"+str(errorlog_multi[alpha]))\n",
    "    \n",
    "    ax.scatter(X_val[:,0], y_pred, alpha=0.8, label='Becsült értékek')\n",
    "    ax.scatter(X_val[:,0], y_val, alpha=0.8, label='Megfigyelt értékek')\n",
    "    \n",
    "    ax.legend()\n",
    "    plt.show()"
   ]
  },
  {
   "cell_type": "code",
   "execution_count": null,
   "metadata": {},
   "outputs": [],
   "source": [
    "plt.figure(figsize=(10,8))\n",
    "plt.title(\"Multitask hiba mértéke az alpha hiperparaméter függvényében\", size=20)\n",
    "plt.xlabel(\"Lasso arány\", size=15)\n",
    "plt.ylabel(\"Hiba\", size=15)\n",
    "plt.plot(errorlog_multi.keys(), errorlog_multi.values())\n",
    "plt.show()"
   ]
  },
  {
   "cell_type": "code",
   "execution_count": null,
   "metadata": {},
   "outputs": [],
   "source": [
    "plt.figure(figsize=(10,8))\n",
    "plt.title(\"Multitask és CV hiba összehasnolítása\", size=20)\n",
    "plt.xlabel(\"Lasso arány\", size=15)\n",
    "plt.ylabel(\"Hiba\", size=15)\n",
    "plt.plot(errorlog_multi.keys(), errorlog_multi.values(), label=\"Multitask\")\n",
    "plt.plot(errorlog.keys(), errorlog.values(), label=\"CV\")\n",
    "plt.legend()\n",
    "plt.show()"
   ]
  },
  {
   "cell_type": "code",
   "execution_count": null,
   "metadata": {},
   "outputs": [],
   "source": []
  }
 ],
 "metadata": {
  "anaconda-cloud": {},
  "kernelspec": {
   "display_name": "Python 3 (ipykernel)",
   "language": "python",
   "name": "python3"
  },
  "language_info": {
   "codemirror_mode": {
    "name": "ipython",
    "version": 3
   },
   "file_extension": ".py",
   "mimetype": "text/x-python",
   "name": "python",
   "nbconvert_exporter": "python",
   "pygments_lexer": "ipython3",
   "version": "3.8.3"
  },
  "varInspector": {
   "cols": {
    "lenName": 16,
    "lenType": 16,
    "lenVar": 40
   },
   "kernels_config": {
    "python": {
     "delete_cmd_postfix": "",
     "delete_cmd_prefix": "del ",
     "library": "var_list.py",
     "varRefreshCmd": "print(var_dic_list())"
    },
    "r": {
     "delete_cmd_postfix": ") ",
     "delete_cmd_prefix": "rm(",
     "library": "var_list.r",
     "varRefreshCmd": "cat(var_dic_list()) "
    }
   },
   "position": {
    "height": "642.85px",
    "left": "1258.6px",
    "right": "20px",
    "top": "26px",
    "width": "232.4px"
   },
   "types_to_exclude": [
    "module",
    "function",
    "builtin_function_or_method",
    "instance",
    "_Feature"
   ],
   "window_display": false
  }
 },
 "nbformat": 4,
 "nbformat_minor": 4
}

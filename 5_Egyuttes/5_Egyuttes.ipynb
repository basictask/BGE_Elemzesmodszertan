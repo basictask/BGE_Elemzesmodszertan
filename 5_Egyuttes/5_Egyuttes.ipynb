{
 "cells": [
  {
   "cell_type": "markdown",
   "metadata": {},
   "source": [
    "## Együttes tanulás"
   ]
  },
  {
   "cell_type": "code",
   "execution_count": null,
   "metadata": {},
   "outputs": [],
   "source": [
    "import pandas as pd\n",
    "import numpy as np \n",
    "\n",
    "# Együttes tanulás\n",
    "from sklearn.model_selection import train_test_split\n",
    "from sklearn.metrics import accuracy_score\n",
    "from sklearn.tree import DecisionTreeClassifier\n",
    "from sklearn import preprocessing\n",
    "from sklearn import tree\n",
    "from sklearn.base import clone\n",
    "from sklearn.model_selection import ShuffleSplit\n",
    "from sklearn.model_selection import GridSearchCV\n",
    "from sklearn.ensemble import BaggingClassifier\n",
    "\n",
    "import matplotlib.pyplot as plt\n",
    "from matplotlib.colors import ListedColormap\n",
    "\n",
    "from scipy.stats import mode\n",
    "\n",
    "cm='viridis' # colormap\n",
    "\n",
    "# Gradiens turbózás\n",
    "import lightgbm as lgb # A lightGBM modult fel kell telepíteni\n",
    "import seaborn as sns\n",
    "import time\n",
    "import pydotplus # A pydotplus-t az előző órán feltelepítettük: nem biztos hogy kell, ha van sklearn.tree\n",
    "\n",
    "# Modellek jóságának mérése\n",
    "from sklearn.metrics import log_loss\n",
    "from sklearn.linear_model import LogisticRegression\n",
    "from sklearn.metrics import confusion_matrix, classification_report\n",
    "from sklearn.metrics import mean_squared_error\n",
    "from sklearn.datasets import load_breast_cancer\n",
    "from sklearn.tree import export_graphviz\n",
    "\n",
    "from matplotlib.animation import FuncAnimation # animáciük készítése\n",
    "\n",
    "%matplotlib inline\n",
    "\n",
    "import warnings\n",
    "warnings.filterwarnings('ignore')"
   ]
  },
  {
   "cell_type": "markdown",
   "metadata": {},
   "source": [
    "### Döntési határok felrajzolására függvény"
   ]
  },
  {
   "cell_type": "code",
   "execution_count": null,
   "metadata": {},
   "outputs": [],
   "source": [
    "def plot_decision_boundary(clf, X, y, axes=[0, 50, 0, 20], alpha=0.5, contour=True):\n",
    "    X = np.array(X)\n",
    "    y = np.array(y)\n",
    "    x1s = np.linspace(axes[0], axes[1], 100)\n",
    "    x2s = np.linspace(axes[2], axes[3], 100)\n",
    "    x1, x2 = np.meshgrid(x1s, x2s)\n",
    "    X_new = np.c_[x1.ravel(), x2.ravel()]\n",
    "    y_pred = clf.predict(X_new).reshape(x1.shape)\n",
    "\n",
    "    le = preprocessing.LabelEncoder()\n",
    "    for i in range(len(y_pred)):\n",
    "        y_pred[i] = le.fit_transform(y_pred[i])\n",
    "    \n",
    "    y_pred = y_pred.astype(np.float64)\n",
    "    custom_cmap = ListedColormap(['#fafab0','#9898ff','#a0faa0'])    \n",
    "    \n",
    "    plt.contourf(x1, x2, y_pred, alpha=0.3, cmap=custom_cmap)\n",
    "    if contour:\n",
    "        custom_cmap2 = ListedColormap(['#7d7d58','#4c4c7f','#507d50'])\n",
    "        plt.contour(x1, x2, y_pred, cmap=custom_cmap2, alpha=0.8)\n",
    "    \n",
    "    plt.scatter(X[:,0], X[:,1], c=le.fit_transform(y), cmap = custom_cmap2)\n",
    "    plt.scatter(X[:,0], X[:,1], c=le.fit_transform(y), cmap = custom_cmap2)\n",
    "    \n",
    "    plt.axis(axes)\n",
    "    plt.xlabel(r\"$x_1$\", fontsize=18)\n",
    "    plt.ylabel(r\"$x_2$\", fontsize=18, rotation=0)"
   ]
  },
  {
   "cell_type": "markdown",
   "metadata": {},
   "source": [
    "### Adatok beolvasása"
   ]
  },
  {
   "cell_type": "code",
   "execution_count": null,
   "metadata": {},
   "outputs": [],
   "source": [
    "df = pd.read_csv('halak.csv', header=0, sep=';', encoding='ISO-8859-2')\n",
    "\n",
    "X = df[['Hossz1', 'Magassag']] # Független változók\n",
    "Y = df['Faj'] # Célváltozó\n",
    "\n",
    "x_train, x_val, y_train, y_val = train_test_split(X, Y, test_size=0.2, random_state=42)\n",
    "\n",
    "le = preprocessing.LabelEncoder() # Címkekódoló a fajták számmal való reprezentálásához\n",
    "\n",
    "plt.figure(figsize=(8,8))\n",
    "plt.title(\"Halak fajtái tulajdonságuk szerint\", size=20)\n",
    "plt.scatter(X.iloc[:,0], X.iloc[:,1], c=le.fit_transform(Y), cmap=cm)\n",
    "plt.xlabel(\"Hossz\", size=15)\n",
    "plt.ylabel(\"Magasság\", size=15)\n",
    "plt.show()\n",
    "\n",
    "df_pred = pd.DataFrame({'original': y_val})\n",
    "\n",
    "df.head()"
   ]
  },
  {
   "cell_type": "markdown",
   "metadata": {},
   "source": [
    "### Kétváltozós döntési fa tanítása"
   ]
  },
  {
   "cell_type": "code",
   "execution_count": null,
   "metadata": {},
   "outputs": [],
   "source": [
    "clf_tree_2var = DecisionTreeClassifier(criterion='gini', max_depth=5, random_state=42)\n",
    "\n",
    "clf_tree_2var.fit(x_train, y_train)\n",
    "\n",
    "df_pred['2var_tree'] = clf_tree_2var.predict(x_val) # Predikciók készítése az adathalmazra\n",
    "\n",
    "print(\"Accuracy:\", accuracy_score(df_pred['original'], df_pred['2var_tree']))\n",
    "df_pred.head()"
   ]
  },
  {
   "cell_type": "markdown",
   "metadata": {},
   "source": [
    "### Bagging"
   ]
  },
  {
   "cell_type": "code",
   "execution_count": null,
   "metadata": {},
   "outputs": [],
   "source": [
    "bag_clf = BaggingClassifier(DecisionTreeClassifier(random_state=42), # Milyen modellt használunk\n",
    "                            n_estimators=500, # Hány modellt tanítson az algoritmus\n",
    "                            max_samples=120,  # Mennyi mintaegyed különüljön el az egyes modellek tanításának\n",
    "                            bootstrap=True, \n",
    "                            random_state=42)\n",
    "\n",
    "bag_clf.fit(x_train[['Hossz1','Magassag']], y_train) # tanítás\n",
    "\n",
    "y_pred_bag = bag_clf.predict(x_val[['Hossz1','Magassag']]) # predikció\n",
    "\n",
    "df_pred['Bagging'] = y_pred_bag # ellenőrzés\n",
    "df_pred['Bag_match'] = [1 if x==y else 0 for x,y in zip(df_pred['original'], df_pred['Bagging'])]\n",
    "\n",
    "print(\"Accuracy:\", accuracy_score(y_val, y_pred_bag))\n",
    "df_pred.head()"
   ]
  },
  {
   "cell_type": "markdown",
   "metadata": {},
   "source": [
    "### Döntési fa vs. Bagging\n",
    "Figyeljük meg, az adott modellek hogyan partícionálják a teret!\n",
    "\n",
    "Hasonlítsuk össze a következő tulajdonságuk alapján: alultanulás, túltanulás, generalizálás."
   ]
  },
  {
   "cell_type": "code",
   "execution_count": null,
   "metadata": {},
   "outputs": [],
   "source": [
    "fix, axes = plt.subplots(ncols=2, figsize=(15,8), sharey=True)\n",
    "plt.sca(axes[0])\n",
    "plot_decision_boundary(clf_tree_2var, X[['Hossz1', 'Magassag']], Y)\n",
    "plt.title(\"Döntési Fa\", fontsize=14)\n",
    "\n",
    "plt.sca(axes[1])\n",
    "plot_decision_boundary(bag_clf, X[['Hossz1', 'Magassag']], Y)\n",
    "plt.title(\"Döntési fa + Bagging\", fontsize=14)\n",
    "plt.ylabel(\"\")\n",
    "plt.show()"
   ]
  },
  {
   "cell_type": "markdown",
   "metadata": {},
   "source": [
    "### Legjobb döntési fa megtalálása GridSearch-el\n",
    "A GridSearch egy hiperparaméter-optimalizálási módszer, paraméter értékek kombinációit próbálja ki, elmenti a modell jóságát és a végén visszaadja a legjobban teljesítő modellt. Mi ennek az előnye és hátránya?"
   ]
  },
  {
   "cell_type": "code",
   "execution_count": null,
   "metadata": {},
   "outputs": [],
   "source": [
    "x_train = np.array(x_train) # adathalmazok átalakítása np objektumokká\n",
    "x_val = np.array(x_val)\n",
    "y_train = np.array(y_train)\n",
    "y_val = np.array(y_val)\n",
    "\n",
    "params = {'max_leaf_nodes': list(range(2, 100)), # melyik regularizációs hiperparaméterek kombinációjában kell keresni?\n",
    "          'min_samples_split': [2, 3, 4],\n",
    "          'min_samples_leaf': [1, 2, 3]}\n",
    "\n",
    "grid_search_cv = GridSearchCV(DecisionTreeClassifier(), params, verbose=1, cv=3) # hiperparam. tuning\n",
    "\n",
    "grid_search_cv.fit(x_train, y_train) # hiperparaméter tuning illesztés\n",
    "\n",
    "best = grid_search_cv.best_estimator_ # legjobb prediktor megtalálása az együttesben"
   ]
  },
  {
   "cell_type": "code",
   "execution_count": null,
   "metadata": {},
   "outputs": [],
   "source": [
    "print(\"Params for best tree:\")\n",
    "print(\"Min samples split:\", best.min_samples_split)\n",
    "print(\"Max depth:\", best.max_depth)\n",
    "print(\"Min samples leaf:\", best.min_samples_leaf)\n",
    "print(\"Max features:\", best.max_features)\n",
    "print(\"Max leaf nodes:\", best.max_leaf_nodes)"
   ]
  },
  {
   "cell_type": "markdown",
   "metadata": {},
   "source": [
    "### A tanító adathalmaz 1000 random kiválasztott részhalmaza"
   ]
  },
  {
   "cell_type": "code",
   "execution_count": null,
   "metadata": {},
   "outputs": [],
   "source": [
    "n_trees = 1000\n",
    "n_instances = 100 \n",
    "\n",
    "mini_sets = []\n",
    "\n",
    "rs = ShuffleSplit(n_splits=n_trees, test_size=len(x_train) - n_instances, random_state=42) # véletlen szétdarabolás\n",
    "\n",
    "for mini_train_index, mini_test_index in rs.split(x_train): # a szétdarabolt részhalmazok listába illesztése\n",
    "    X_mini_train = x_train[mini_train_index]\n",
    "    y_mini_train = y_train[mini_train_index]\n",
    "    mini_sets.append((X_mini_train, y_mini_train))"
   ]
  },
  {
   "cell_type": "markdown",
   "metadata": {},
   "source": [
    "### A legjobb modell klónozása és minden modell segítségével predikció készítés"
   ]
  },
  {
   "cell_type": "code",
   "execution_count": null,
   "metadata": {},
   "outputs": [],
   "source": [
    "forest = [clone(grid_search_cv.best_estimator_) for _ in range(n_trees)] # Legjobb modell erdővé klónozása\n",
    "\n",
    "accuracy_scores = []\n",
    "\n",
    "for tree, (X_mini_train, y_mini_train) in zip(forest, mini_sets): # Az erdő minden fájával predikció készítése\n",
    "    tree.fit(X_mini_train, y_mini_train)\n",
    "    y_pred = tree.predict(x_val)\n",
    "    accuracy_scores.append(accuracy_score(y_val, y_pred))  # Pontosság mérése\n",
    "\n",
    "print(\"Average accuracy:\", np.mean(accuracy_scores)) # Átlagos predikció pontosság"
   ]
  },
  {
   "cell_type": "markdown",
   "metadata": {},
   "source": [
    "### Együttes tanulókkal predikció készítése"
   ]
  },
  {
   "cell_type": "code",
   "execution_count": null,
   "metadata": {},
   "outputs": [],
   "source": [
    "y_pred_ensemble = np.empty([n_trees, len(x_val)], dtype='O') # Az együttes predikcióinak adatstruktúra\n",
    "\n",
    "for tree_index, tree in enumerate(forest): \n",
    "    y_pred_ensemble[tree_index] = tree.predict(x_val) # Predikciók készítése\n",
    "    \n",
    "y_pred_majority_votes, n_votes = mode(y_pred_ensemble, axis=0) # A leggyakoribb predikció legyen a végleges\n",
    "\n",
    "ensemble_preds = pd.Series(y_pred_majority_votes[0], index=df_pred.index) # Series-é alakítás\n",
    "\n",
    "df_pred['Ensemble'] = ensemble_preds # Ellenőrző adathalmazra ráfűzés\n",
    "\n",
    "df_pred['Ensemble_match'] = [1 if x==y else 0 for x,y in zip(df_pred['original'], \n",
    "                                                             df_pred['Ensemble'])]\n",
    "\n",
    "print(accuracy_score(y_val, ensemble_preds))"
   ]
  },
  {
   "cell_type": "markdown",
   "metadata": {},
   "source": [
    "### Gradiens turbózás rákos sejtek osztályozására\n",
    "Adatszerkezet felállítása: tumorokról orvosok lejegyezték bizonyos tulajdonságokat, pl. sugár, textúra, kerület stb...\n",
    "\n",
    "Az adattábla egy jól elemezhető, beépített objektum: sok, numerikus változót tartalmaz, jól jósolható a célváltozó"
   ]
  },
  {
   "cell_type": "code",
   "execution_count": null,
   "metadata": {},
   "outputs": [],
   "source": [
    "df = pd.DataFrame(data = load_breast_cancer().data, columns=load_breast_cancer().feature_names)\n",
    "df['y'] = list(load_breast_cancer().target) # Célváltozó: 1-rákos, 0-nem rákos\n",
    "df.head()"
   ]
  },
  {
   "cell_type": "markdown",
   "metadata": {},
   "source": [
    "### Korrelációs mátrix heatmap-pel"
   ]
  },
  {
   "cell_type": "code",
   "execution_count": null,
   "metadata": {},
   "outputs": [],
   "source": [
    "corr = df.corr() \n",
    "\n",
    "sns.heatmap(corr, xticklabels=corr.columns.values, yticklabels=corr.columns.values, \n",
    "            annot = True, annot_kws={'size':12})\n",
    "heat_map=plt.gcf()\n",
    "heat_map.set_size_inches(22,18)\n",
    "\n",
    "plt.xticks(fontsize=10)\n",
    "plt.yticks(fontsize=10)\n",
    "plt.show()"
   ]
  },
  {
   "cell_type": "markdown",
   "metadata": {},
   "source": [
    "### Gyenge változók kidobálása\n",
    "Minden változót eldobunk, ami 0,5-nél gyengébben korrelál a célváltozóval"
   ]
  },
  {
   "cell_type": "code",
   "execution_count": null,
   "metadata": {},
   "outputs": [],
   "source": [
    "df = df.drop(list(corr['y'][abs(corr['y'])<0.5].index),axis=1) # Aminek kevesebb mint közepesen erős a korrelációja"
   ]
  },
  {
   "cell_type": "markdown",
   "metadata": {},
   "source": [
    "### Tanítás-teszt szeparáció 8:2 arányban"
   ]
  },
  {
   "cell_type": "code",
   "execution_count": null,
   "metadata": {},
   "outputs": [],
   "source": [
    "mask = np.random.randn(len(df)) < 0.8 # tesztmaszk\n",
    "x_train = df[mask].iloc[:,:15] \n",
    "x_test = df[~mask].iloc[:,:15]\n",
    "y_train = df[mask].iloc[:,15:]\n",
    "y_test = df[~mask].iloc[:,15:]"
   ]
  },
  {
   "cell_type": "markdown",
   "metadata": {},
   "source": [
    "### Paraméterek könyvtára"
   ]
  },
  {
   "cell_type": "code",
   "execution_count": null,
   "metadata": {},
   "outputs": [],
   "source": [
    "params = {\n",
    "    'boosting_type': 'gbdt', # Gradient Boosting Decision Tree\n",
    "    'objective': 'binary', # Logiszikus\n",
    "    'num_leaves': 31, # Levelek száma\n",
    "    'min_data_in_leaf': 20, # Terminális régiókba bekerülő adatmennyiség\n",
    "    'max_depth': 10, # Elérhető maximális mélység\n",
    "    'max_bin': 255, # Legtöbb kosár amibe a változó kerülhet\n",
    "    'learning_rate': 0.1, # Tanulási sebesség\n",
    "    'metric': [11,12], # Ehhez nem nyúlunk\n",
    "    'bagging_fraction': 0.8, # Újramintázási mennyiség\n",
    "    'bagging_freq': 5 # Újramintázási gyakoriság\n",
    "}"
   ]
  },
  {
   "cell_type": "markdown",
   "metadata": {},
   "source": [
    "### Függvény egy trbózó tanítására és predikciók lekérésére"
   ]
  },
  {
   "cell_type": "code",
   "execution_count": null,
   "metadata": {},
   "outputs": [],
   "source": [
    "def experiment(objective, label_type, x_train, x_test, y_train, y_test, i):\n",
    "    lgb_train = lgb.Dataset(x_train, y_train, free_raw_data=False) # Train LGBM Datasetté alakítása\n",
    "    lgb_test = lgb.Dataset(x_test, y_test, free_raw_data=False) # Test LGBM Datasetté alakítása\n",
    "    \n",
    "    params['objective'] = objective # Célfüggvény\n",
    "    \n",
    "    if(i==0):\n",
    "        gbm = lgb.train(params, # LGBM modell létrehozása\n",
    "                        lgb_train, \n",
    "                        valid_sets=[lgb_train, lgb_test], # Validációs adathalmazok\n",
    "                        num_boost_round=10) # Hány körös legyen a turbózás\n",
    "        gbm.save_model(str(objective)+'gbmodel.txt') # Modell mentése\n",
    "    else:\n",
    "        gbmprev = lgb.Booster(model_file=str(objective)+'gbmodel.txt') # Előző modell betöltése ha melegindítás\n",
    "        gbm = lgb.train(params,\n",
    "                        lgb_train,\n",
    "                        valid_sets=[lgb_train, lgb_test],\n",
    "                        num_boost_round=10,\n",
    "                        init_model=gbmprev) # Kezdeti modell megadása, amit tovább kell építenie\n",
    "        gbm.save_model(str(objective)+'gbmodel.txt') \n",
    "      \n",
    "    y_fitted = pd.Series(gbm.predict(x_test, num_iteration=gbm.best_iteration)) # Predikciók lekérése    \n",
    "    y_pred = pd.DataFrame({'y_pred': y_fitted}) # Df-é alakítás\n",
    "     \n",
    "    y_true = y_test.copy().set_index(np.arange(len(y_test)))\n",
    "    \n",
    "    return pd.concat([y_true, y_pred], axis=1)"
   ]
  },
  {
   "cell_type": "markdown",
   "metadata": {},
   "source": [
    "### Viselkedés vizsgálata bináris és szabadon választott célponttal\n",
    "Választható: \n",
    "\n",
    "    regression, regression_l1, huber, fair, possion, quantile, mape, gamma, tweedie, binary\n",
    "    multiclass, multiclassova, cross_entropy, cross_entropy_lambda, lambdarank, rank_xendcg"
   ]
  },
  {
   "cell_type": "code",
   "execution_count": null,
   "metadata": {},
   "outputs": [],
   "source": [
    "A = [experiment('binary', 'binary', x_train, x_test, y_train, y_test, k) for k in range(10)] # GBDT bináris céllal\n",
    "\n",
    "second_target = 'tweedie' # Ide kell beírni a célpontot\n",
    "tree_num = 10\n",
    "B = [experiment(second_target, 'binary', x_train, x_test, y_train, y_test, k) for k in range(tree_num)] # Másodlagos céllal"
   ]
  },
  {
   "cell_type": "markdown",
   "metadata": {},
   "source": [
    "### Pontosság mérése adott iterációk alatt"
   ]
  },
  {
   "cell_type": "code",
   "execution_count": null,
   "metadata": {},
   "outputs": [],
   "source": [
    "accuracy_binary = lambda D: [accuracy_score(x['y'], x['y_pred'].round()) for x in D] # Adatpontok összerendezése\n",
    "accuracy_mean = lambda D: [mean_squared_error(x['y'], x['y_pred']) for x in D]\n",
    "\n",
    "def accplot(accdata, objective): # Pontosságot mérő függvény matplotlib fekete mágiával\n",
    "    fig = plt.figure(figsize=(10,8))\n",
    "    ax2 = fig.add_subplot(2,1,2)\n",
    "    ax1 = fig.add_subplot(2,1,1, sharex=ax2) \n",
    "    fig.suptitle(objective + ' classification', fontsize=16)\n",
    "    ax1.plot(accuracy_binary(accdata), '-ob')\n",
    "    ax1.set_title('Bináris pontosság')\n",
    "    ax2.plot(accuracy_mean(accdata))\n",
    "    ax2.set_title('Valószínűségi rezidum')\n",
    "    plt.xticks(np.arange(0,len(accdata)))\n",
    "    plt.show()\n",
    "\n",
    "accplot(A, 'binary') # Pontosság elsődleges\n",
    "accplot(B, second_target) # És másodlagos célpontra"
   ]
  },
  {
   "cell_type": "markdown",
   "metadata": {},
   "source": [
    "### Kontingencia tábla, hőtérkép"
   ]
  },
  {
   "cell_type": "code",
   "execution_count": null,
   "metadata": {},
   "outputs": [],
   "source": [
    "y_predfinal = pd.DataFrame({'pred': A[len(A)-1]['y_pred'].copy().round()})\n",
    "cmx = confusion_matrix(y_test, y_predfinal) # Ezzel hozza létre. 2 célosztály=2*2 tábla\n",
    "\n",
    "print(classification_report(y_test, y_predfinal))\n",
    "\n",
    "plt.figure(figsize=(5,5))\n",
    "confusion_matrix_df=pd.DataFrame(cmx,('No cancer', 'Cancer'),('No cancer', 'Cancer'))\n",
    "\n",
    "heatmap = sns.heatmap(confusion_matrix_df, annot=True, annot_kws={\"size\": 20}, fmt=\"d\") # Korrelációs mátrix hőtérképpé\n",
    "heatmap.yaxis.set_ticklabels(heatmap.yaxis.get_ticklabels(), rotation=0, ha='right', fontsize = 14) # Tengelycímkék\n",
    "heatmap.xaxis.set_ticklabels(heatmap.xaxis.get_ticklabels(), rotation=45, ha='right',fontsize = 14)\n",
    "\n",
    "plt.ylabel('True label', fontsize = 14)\n",
    "plt.xlabel('Predicted label', fontsize = 14)\n",
    "plt.show()"
   ]
  },
  {
   "cell_type": "markdown",
   "metadata": {},
   "source": [
    "### Elemek rendezése\n",
    "Ez egy segítő függvény"
   ]
  },
  {
   "cell_type": "code",
   "execution_count": null,
   "metadata": {},
   "outputs": [],
   "source": [
    "ordergen = lambda D: [x.sort_values(by=['y_pred']).reset_index().drop('index',axis=1) for x in D.copy()]"
   ]
  },
  {
   "cell_type": "markdown",
   "metadata": {},
   "source": [
    "### Függvény animálása elsődleges célponttal"
   ]
  },
  {
   "cell_type": "code",
   "execution_count": null,
   "metadata": {},
   "outputs": [],
   "source": [
    "%matplotlib qt\n",
    "C = ordergen(A)\n",
    "\n",
    "fig, ax = plt.subplots(figsize=(15,10)) # Animálandó diagram felvétele\n",
    "ax.set_xlim(0,len(y_test))\n",
    "ax.set_ylim(-0.1, 1.1)\n",
    "ax.set_title('Célpont: bináris')\n",
    "line, = ax.plot(0,0) # Kirajzolandó vonal létrehozása\n",
    "\n",
    "x_data = []\n",
    "y_data = []\n",
    "\n",
    "def animation_frame(i): # Egyetlen képkocka kirajzolása\n",
    "    line.set_xdata(np.arange(0,len(C[i]))) # Vonal inícializálása\n",
    "    fig.suptitle('GBDT Logisztikus regresszió (' + str(i+1)+' fa)', fontsize=20) # Ez a cím miatt kell\n",
    "    y_data = []\n",
    "    line.set_ydata(C[i]['y_pred']) # Vonal szerkesztése\n",
    "    ax.plot(C[0]['y'],'o', color='black') # Diagramra kirajzolás\n",
    "    return line,\n",
    "\n",
    "animation = FuncAnimation(fig, func=animation_frame, frames=range(10), interval=200) # Animálás\n",
    "plt.show()"
   ]
  },
  {
   "cell_type": "markdown",
   "metadata": {},
   "source": [
    "### Függvény animálás másodlagos célpontra"
   ]
  },
  {
   "cell_type": "code",
   "execution_count": null,
   "metadata": {},
   "outputs": [],
   "source": [
    "C = ordergen(B)\n",
    "\n",
    "fig, ax = plt.subplots(figsize=(15,10))\n",
    "ax.set_xlim(0,len(y_test))\n",
    "ax.set_ylim(-0.1, 1.1)\n",
    "ax.set_title('Célpont: ' + second_target)\n",
    "line, = ax.plot(0,0)\n",
    "\n",
    "x_data = []\n",
    "y_data = []\n",
    "\n",
    "animation = FuncAnimation(fig, func=animation_frame, frames=range(len(C)), interval=200)\n",
    "plt.show()"
   ]
  },
  {
   "cell_type": "markdown",
   "metadata": {},
   "source": [
    "### Egy teljes döntési fa létrehozása az adathalmazra"
   ]
  },
  {
   "cell_type": "code",
   "execution_count": null,
   "metadata": {},
   "outputs": [],
   "source": [
    "%matplotlib inline\n",
    "del tree\n",
    "from sklearn import tree\n",
    "\n",
    "# Létrehoz egy teljes döntési fát\n",
    "decisionTree_unpruned = DecisionTreeClassifier()\n",
    "decisionTree = DecisionTreeClassifier(max_depth=5)\n",
    "\n",
    "# Döntési fa tanítása az adathalmazra\n",
    "decisionTree_unpruned = decisionTree_unpruned.fit(X=x_train, y=y_train)\n",
    "decisionTree = decisionTree.fit(X=x_train, y=y_train)\n",
    "\n",
    "plt.figure(figsize=(35,15))\n",
    "tree.plot_tree(decisionTree, filled=True, rounded=True, feature_names = x_train.columns, fontsize=14)\n",
    "plt.show()"
   ]
  },
  {
   "cell_type": "code",
   "execution_count": null,
   "metadata": {},
   "outputs": [],
   "source": [
    "dtree_pred = decisionTree.predict(x_test)\n",
    "cmx = confusion_matrix(y_test, dtree_pred) # Ezzel hozza létre. 2 célosztály=2*2 tábla\n",
    "\n",
    "print(classification_report(y_test, dtree_pred))\n",
    "\n",
    "plt.figure(figsize=(5,5))\n",
    "confusion_matrix_df=pd.DataFrame(cmx,('No cancer', 'Cancer'),('No cancer', 'Cancer'))\n",
    "\n",
    "heatmap = sns.heatmap(confusion_matrix_df, annot=True, annot_kws={\"size\": 20}, fmt=\"d\") # Korrelációs mátrix hőtérképpé\n",
    "heatmap.yaxis.set_ticklabels(heatmap.yaxis.get_ticklabels(), rotation=0, ha='right', fontsize = 14) # Tengelycímkék\n",
    "heatmap.xaxis.set_ticklabels(heatmap.xaxis.get_ticklabels(), rotation=45, ha='right',fontsize = 14)\n",
    "\n",
    "plt.ylabel('True label', fontsize = 14)\n",
    "plt.xlabel('Predicted label', fontsize = 14)\n",
    "plt.show()"
   ]
  },
  {
   "cell_type": "code",
   "execution_count": null,
   "metadata": {},
   "outputs": [],
   "source": []
  }
 ],
 "metadata": {
  "anaconda-cloud": {},
  "kernelspec": {
   "display_name": "Python 3 (ipykernel)",
   "language": "python",
   "name": "python3"
  },
  "language_info": {
   "codemirror_mode": {
    "name": "ipython",
    "version": 3
   },
   "file_extension": ".py",
   "mimetype": "text/x-python",
   "name": "python",
   "nbconvert_exporter": "python",
   "pygments_lexer": "ipython3",
   "version": "3.8.3"
  },
  "varInspector": {
   "cols": {
    "lenName": 16,
    "lenType": 16,
    "lenVar": 40
   },
   "kernels_config": {
    "python": {
     "delete_cmd_postfix": "",
     "delete_cmd_prefix": "del ",
     "library": "var_list.py",
     "varRefreshCmd": "print(var_dic_list())"
    },
    "r": {
     "delete_cmd_postfix": ") ",
     "delete_cmd_prefix": "rm(",
     "library": "var_list.r",
     "varRefreshCmd": "cat(var_dic_list()) "
    }
   },
   "oldHeight": 588.25,
   "position": {
    "height": "40px",
    "left": "1149px",
    "right": "20px",
    "top": "23px",
    "width": "350px"
   },
   "types_to_exclude": [
    "module",
    "function",
    "builtin_function_or_method",
    "instance",
    "_Feature"
   ],
   "varInspector_section_display": "none",
   "window_display": false
  }
 },
 "nbformat": 4,
 "nbformat_minor": 4
}
